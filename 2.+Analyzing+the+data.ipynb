{
 "cells": [
  {
   "cell_type": "code",
   "execution_count": 63,
   "metadata": {},
   "outputs": [],
   "source": [
    "#move to requirements.txt\n",
    "import pandas as pd\n",
    "import numpy as np\n",
    "from collections import Counter\n",
    "import re\n",
    "import qgrid\n",
    "import chart_studio.plotly as py\n",
    "import plotly.graph_objs as go\n",
    "from nltk.tokenize import word_tokenize\n",
    "import numpy as np\n",
    "from nltk.corpus import stopwords\n",
    "from nltk.stem import PorterStemmer\n",
    "from collections import Counter\n",
    "from num2words import num2words\n",
    "py.sign_in('stannida19', 'xB5NhahpUVK3Q3t6O8oZ')\n",
    "#chart_studio.tools.set_credentials_file(username='stannida19', api_key='xB5NhahpUVK3Q3t6O8oZ')\n",
    "#import emoji"
   ]
  },
  {
   "cell_type": "markdown",
   "metadata": {},
   "source": [
    "# The dataset\n",
    "#### The following table shows the dataset that has been collected from the multiple Tinder accounts. \n",
    "#### The columns represent the following information:\n",
    "name -  firstname of a person in Tinder <br>\n",
    "age -  age in Tinder (cannot be hidden in regular accounts) <br>\n",
    "bio -  biography of a person in Tinder (can be empty) <br>\n",
    "n of Words -  number of words in bio <br>\n",
    "distance -  the number of kilometers a person is away from an account that has been used for crawling <br>\n",
    "school -  boolean variable, shows if an education is mentioned <br>\n",
    "job -  boolean variable, shows if work is mentioned <br>\n",
    "pictures -  number of photos that a person has in an account (cannot be 0) <br>\n",
    "instagram -  boolean variable, shows if Instagram account is linked <br>\n",
    "location -  a city from where accounts have been crawled <br>"
   ]
  },
  {
   "cell_type": "code",
   "execution_count": 15,
   "metadata": {},
   "outputs": [
    {
     "data": {
      "application/vnd.jupyter.widget-view+json": {
       "model_id": "d8a26aee3b194de397f3da68bf00be3f",
       "version_major": 2,
       "version_minor": 0
      },
      "text/plain": [
       "QgridWidget(grid_options={'fullWidthRows': True, 'syncColumnCellResize': True, 'forceFitColumns': True, 'defau…"
      ]
     },
     "metadata": {},
     "output_type": "display_data"
    }
   ],
   "source": [
    "men=pd.read_csv('man.csv', index_col=False)\n",
    "women=pd.read_csv('woman.csv', index_col=False)\n",
    "\n",
    "def calculate_words(line):\n",
    "    bio =''.join(str(line))\n",
    "    if 'nan' in bio:\n",
    "        return 0\n",
    "    else:\n",
    "        return(len(re.findall(r'\\w+', bio)))\n",
    "def initialize(df):\n",
    "    df['n of Words'] = np.nan\n",
    "    df['bio'] = df[\"bio\"].str.lower()\n",
    "    for index, row in df.iterrows():\n",
    "        df.at[index, 'n of Words'] = calculate_words(row['bio'])\n",
    "    df=df[['name', 'age', 'bio', 'n of Words', 'distance', 'school', 'job',\n",
    "           'pictures', 'instagram', \"spotify\",'location']].drop(['spotify'], axis=1)\n",
    "    return df\n",
    "\n",
    "men = initialize(men)\n",
    "women = initialize(women)\n",
    "qgrid.show_grid(men)"
   ]
  },
  {
   "cell_type": "code",
   "execution_count": 16,
   "metadata": {},
   "outputs": [
    {
     "data": {
      "application/vnd.jupyter.widget-view+json": {
       "model_id": "ad258e587d354096999d7e493880645d",
       "version_major": 2,
       "version_minor": 0
      },
      "text/plain": [
       "QgridWidget(grid_options={'fullWidthRows': True, 'syncColumnCellResize': True, 'forceFitColumns': True, 'defau…"
      ]
     },
     "metadata": {},
     "output_type": "display_data"
    }
   ],
   "source": [
    "qgrid.show_grid(women)"
   ]
  },
  {
   "cell_type": "code",
   "execution_count": 24,
   "metadata": {},
   "outputs": [
    {
     "name": "stderr",
     "output_type": "stream",
     "text": [
      "[nltk_data] Downloading package stopwords to\n",
      "[nltk_data]     /home/stankeaa/nltk_data...\n",
      "[nltk_data]   Package stopwords is already up-to-date!\n",
      "[nltk_data] Downloading package punkt to /home/stankeaa/nltk_data...\n",
      "[nltk_data]   Package punkt is already up-to-date!\n"
     ]
    }
   ],
   "source": [
    "#cleaning the text, so that the frequency is calculated correctly\n",
    "import nltk\n",
    "from nltk.corpus import stopwords\n",
    "nltk.download('stopwords')\n",
    "nltk.download('punkt')\n",
    "\n",
    "def remove_punctuation(data):\n",
    "    symbols = \"!\\\"#$%&()*+-./:;<=>?@[\\]^_`{|}~\\n\"\n",
    "    for i in range(len(symbols)):\n",
    "        data = np.char.replace(data, symbols[i], ' ')\n",
    "        data = np.char.replace(data, \"  \", \" \")\n",
    "    data = np.char.replace(data, ',', '')\n",
    "    return data\n",
    "\n",
    "def remove_stop_words(data):\n",
    "    stop_words_en = stopwords.words('english')\n",
    "    stop_words_de = set(stopwords.words('german'))\n",
    "    words = word_tokenize(str(data))\n",
    "    new_text = \"\"\n",
    "    for w in words:\n",
    "        if w not in stop_words_en and w not in stop_words_de and len(w) > 1:\n",
    "            new_text = new_text + \" \" + w\n",
    "    return new_text\n",
    "\n",
    "def remove_apostrophe(data):\n",
    "    return np.char.replace(data, \"'\", \"\")\n",
    "\n",
    "def stemming(data):\n",
    "    stemmer= PorterStemmer()\n",
    "    \n",
    "    tokens = word_tokenize(str(data))\n",
    "    new_text = \"\"\n",
    "    for w in tokens:\n",
    "        new_text = new_text + \" \" + stemmer.stem(w)\n",
    "    return new_text\n",
    "\n",
    "def convert_numbers(data):\n",
    "    tokens = word_tokenize(str(data))\n",
    "    new_text = \"\"\n",
    "    for w in tokens:\n",
    "        try:\n",
    "            w = num2words(int(w))\n",
    "        except:\n",
    "            a = 0\n",
    "        new_text = new_text + \" \" + w\n",
    "    new_text = np.char.replace(new_text, \"-\", \" \")\n",
    "    return new_text"
   ]
  },
  {
   "cell_type": "code",
   "execution_count": 18,
   "metadata": {},
   "outputs": [],
   "source": [
    "def preprocess(data):\n",
    "    data = remove_punctuation(data) #remove comma seperately\n",
    "    data = remove_apostrophe(data)\n",
    "    data = remove_stop_words(data)\n",
    "    data = convert_numbers(data)\n",
    "    data = stemming(data)\n",
    "    data = remove_punctuation(data)\n",
    "    data = convert_numbers(data)\n",
    "    data = stemming(data) #needed again as we need to stem the words\n",
    "    data = remove_punctuation(data) #needed again as num2word is giving few hypens and commas fourty-one\n",
    "    data = remove_stop_words(data) #needed again as num2word is giving stop words 101 - one hundred and one\n",
    "    return data"
   ]
  },
  {
   "cell_type": "code",
   "execution_count": 34,
   "metadata": {},
   "outputs": [],
   "source": [
    "def counting_frequency(df):\n",
    "    processed_text = []\n",
    "    for bio in df['bio']:\n",
    "        processed_text.append(word_tokenize(str(preprocess(str(bio)))))\n",
    "    DF = {}\n",
    "\n",
    "    for i in range(len(processed_text)):\n",
    "        tokens = processed_text[i]\n",
    "        for w in tokens:\n",
    "            try:\n",
    "                DF[w].add(i)\n",
    "            except:\n",
    "                DF[w] = {i}\n",
    "\n",
    "    for i in DF:\n",
    "        DF[i] = len(DF[i])\n",
    "    return(DF)"
   ]
  },
  {
   "cell_type": "code",
   "execution_count": 41,
   "metadata": {},
   "outputs": [],
   "source": [
    "women_freq = counting_frequency(women)\n",
    "men_freq = counting_frequency(men)"
   ]
  },
  {
   "cell_type": "markdown",
   "metadata": {},
   "source": [
    "# Description of the dataset\n",
    "#### The following tables show the 15 most frequent words used by male and female accounts collected from Tinder\n",
    "The biographies have been cleaned and stemmed in order to get more representative results <br>\n",
    "#### Female accounts:"
   ]
  },
  {
   "cell_type": "code",
   "execution_count": 52,
   "metadata": {},
   "outputs": [
    {
     "data": {
      "text/html": [
       "<div>\n",
       "<style scoped>\n",
       "    .dataframe tbody tr th:only-of-type {\n",
       "        vertical-align: middle;\n",
       "    }\n",
       "\n",
       "    .dataframe tbody tr th {\n",
       "        vertical-align: top;\n",
       "    }\n",
       "\n",
       "    .dataframe thead th {\n",
       "        text-align: right;\n",
       "    }\n",
       "</style>\n",
       "<table border=\"1\" class=\"dataframe\">\n",
       "  <thead>\n",
       "    <tr style=\"text-align: right;\">\n",
       "      <th></th>\n",
       "      <th>word</th>\n",
       "      <th>frequency</th>\n",
       "    </tr>\n",
       "  </thead>\n",
       "  <tbody>\n",
       "    <tr>\n",
       "      <th>60</th>\n",
       "      <td>one</td>\n",
       "      <td>27</td>\n",
       "    </tr>\n",
       "    <tr>\n",
       "      <th>443</th>\n",
       "      <td>seventi</td>\n",
       "      <td>26</td>\n",
       "    </tr>\n",
       "    <tr>\n",
       "      <th>62</th>\n",
       "      <td>hundr</td>\n",
       "      <td>25</td>\n",
       "    </tr>\n",
       "    <tr>\n",
       "      <th>137</th>\n",
       "      <td>instagram</td>\n",
       "      <td>23</td>\n",
       "    </tr>\n",
       "    <tr>\n",
       "      <th>26</th>\n",
       "      <td>berlin</td>\n",
       "      <td>21</td>\n",
       "    </tr>\n",
       "    <tr>\n",
       "      <th>50</th>\n",
       "      <td>insta</td>\n",
       "      <td>21</td>\n",
       "    </tr>\n",
       "    <tr>\n",
       "      <th>430</th>\n",
       "      <td>ig</td>\n",
       "      <td>19</td>\n",
       "    </tr>\n",
       "    <tr>\n",
       "      <th>127</th>\n",
       "      <td>lieb</td>\n",
       "      <td>14</td>\n",
       "    </tr>\n",
       "    <tr>\n",
       "      <th>121</th>\n",
       "      <td>gern</td>\n",
       "      <td>14</td>\n",
       "    </tr>\n",
       "    <tr>\n",
       "      <th>877</th>\n",
       "      <td>sixti</td>\n",
       "      <td>13</td>\n",
       "    </tr>\n",
       "    <tr>\n",
       "      <th>11</th>\n",
       "      <td>einfach</td>\n",
       "      <td>13</td>\n",
       "    </tr>\n",
       "    <tr>\n",
       "      <th>33</th>\n",
       "      <td>love</td>\n",
       "      <td>13</td>\n",
       "    </tr>\n",
       "    <tr>\n",
       "      <th>8</th>\n",
       "      <td>mal</td>\n",
       "      <td>12</td>\n",
       "    </tr>\n",
       "    <tr>\n",
       "      <th>230</th>\n",
       "      <td>menschen</td>\n",
       "      <td>12</td>\n",
       "    </tr>\n",
       "    <tr>\n",
       "      <th>166</th>\n",
       "      <td>look</td>\n",
       "      <td>12</td>\n",
       "    </tr>\n",
       "  </tbody>\n",
       "</table>\n",
       "</div>"
      ],
      "text/plain": [
       "          word  frequency\n",
       "60         one         27\n",
       "443    seventi         26\n",
       "62       hundr         25\n",
       "137  instagram         23\n",
       "26      berlin         21\n",
       "50       insta         21\n",
       "430         ig         19\n",
       "127       lieb         14\n",
       "121       gern         14\n",
       "877      sixti         13\n",
       "11     einfach         13\n",
       "33        love         13\n",
       "8          mal         12\n",
       "230   menschen         12\n",
       "166       look         12"
      ]
     },
     "execution_count": 52,
     "metadata": {},
     "output_type": "execute_result"
    }
   ],
   "source": [
    "women_freq_df = pd.DataFrame(list(women_freq.items()), columns=['word', 'frequency'])\n",
    "women_freq_df = women_freq_df[women_freq_df['word']!='nan']\n",
    "women_freq_df.sort_values(by=['frequency'], ascending=False).head(15)"
   ]
  },
  {
   "cell_type": "markdown",
   "metadata": {},
   "source": [
    "#### Male accounts:"
   ]
  },
  {
   "cell_type": "code",
   "execution_count": 54,
   "metadata": {},
   "outputs": [
    {
     "data": {
      "text/html": [
       "<div>\n",
       "<style scoped>\n",
       "    .dataframe tbody tr th:only-of-type {\n",
       "        vertical-align: middle;\n",
       "    }\n",
       "\n",
       "    .dataframe tbody tr th {\n",
       "        vertical-align: top;\n",
       "    }\n",
       "\n",
       "    .dataframe thead th {\n",
       "        text-align: right;\n",
       "    }\n",
       "</style>\n",
       "<table border=\"1\" class=\"dataframe\">\n",
       "  <thead>\n",
       "    <tr style=\"text-align: right;\">\n",
       "      <th></th>\n",
       "      <th>word</th>\n",
       "      <th>frequency</th>\n",
       "    </tr>\n",
       "  </thead>\n",
       "  <tbody>\n",
       "    <tr>\n",
       "      <th>45</th>\n",
       "      <td>one</td>\n",
       "      <td>50</td>\n",
       "    </tr>\n",
       "    <tr>\n",
       "      <th>32</th>\n",
       "      <td>eighti</td>\n",
       "      <td>43</td>\n",
       "    </tr>\n",
       "    <tr>\n",
       "      <th>166</th>\n",
       "      <td>hundr</td>\n",
       "      <td>39</td>\n",
       "    </tr>\n",
       "    <tr>\n",
       "      <th>321</th>\n",
       "      <td>new</td>\n",
       "      <td>29</td>\n",
       "    </tr>\n",
       "    <tr>\n",
       "      <th>6</th>\n",
       "      <td>travel</td>\n",
       "      <td>28</td>\n",
       "    </tr>\n",
       "    <tr>\n",
       "      <th>25</th>\n",
       "      <td>look</td>\n",
       "      <td>27</td>\n",
       "    </tr>\n",
       "    <tr>\n",
       "      <th>102</th>\n",
       "      <td>student</td>\n",
       "      <td>25</td>\n",
       "    </tr>\n",
       "    <tr>\n",
       "      <th>347</th>\n",
       "      <td>live</td>\n",
       "      <td>23</td>\n",
       "    </tr>\n",
       "    <tr>\n",
       "      <th>97</th>\n",
       "      <td>twenti</td>\n",
       "      <td>23</td>\n",
       "    </tr>\n",
       "    <tr>\n",
       "      <th>23</th>\n",
       "      <td>love</td>\n",
       "      <td>22</td>\n",
       "    </tr>\n",
       "    <tr>\n",
       "      <th>27</th>\n",
       "      <td>life</td>\n",
       "      <td>22</td>\n",
       "    </tr>\n",
       "    <tr>\n",
       "      <th>278</th>\n",
       "      <td>friend</td>\n",
       "      <td>21</td>\n",
       "    </tr>\n",
       "    <tr>\n",
       "      <th>227</th>\n",
       "      <td>insta</td>\n",
       "      <td>21</td>\n",
       "    </tr>\n",
       "    <tr>\n",
       "      <th>167</th>\n",
       "      <td>eight</td>\n",
       "      <td>20</td>\n",
       "    </tr>\n",
       "    <tr>\n",
       "      <th>350</th>\n",
       "      <td>meet</td>\n",
       "      <td>20</td>\n",
       "    </tr>\n",
       "  </tbody>\n",
       "</table>\n",
       "</div>"
      ],
      "text/plain": [
       "        word  frequency\n",
       "45       one         50\n",
       "32    eighti         43\n",
       "166    hundr         39\n",
       "321      new         29\n",
       "6     travel         28\n",
       "25      look         27\n",
       "102  student         25\n",
       "347     live         23\n",
       "97    twenti         23\n",
       "23      love         22\n",
       "27      life         22\n",
       "278   friend         21\n",
       "227    insta         21\n",
       "167    eight         20\n",
       "350     meet         20"
      ]
     },
     "execution_count": 54,
     "metadata": {},
     "output_type": "execute_result"
    }
   ],
   "source": [
    "men_freq_df = pd.DataFrame(list(men_freq.items()), columns=['word', 'frequency'])\n",
    "men_freq_df = men_freq_df[men_freq_df['word']!='nan']\n",
    "men_freq_df.sort_values(by=['frequency'], ascending=False).head(15)"
   ]
  },
  {
   "cell_type": "code",
   "execution_count": 65,
   "metadata": {},
   "outputs": [
    {
     "data": {
      "text/html": [
       "\n",
       "        <iframe\n",
       "            width=\"100%\"\n",
       "            height=\"525px\"\n",
       "            src=\"https://plot.ly/~stannida19/53.embed\"\n",
       "            frameborder=\"0\"\n",
       "            allowfullscreen\n",
       "        ></iframe>\n",
       "        "
      ],
      "text/plain": [
       "<IPython.lib.display.IFrame at 0x7f2a1c12cc18>"
      ]
     },
     "execution_count": 65,
     "metadata": {},
     "output_type": "execute_result"
    }
   ],
   "source": [
    "age_w = women['age'].value_counts().to_dict()\n",
    "age_m = men['age'].value_counts().to_dict()\n",
    "age_m.update((x,y*(-1)) for x,y in age_m.items())\n",
    "layout = go.Layout(yaxis=go.layout.YAxis(title='Age'),\n",
    "                   xaxis=go.layout.XAxis(\n",
    "                       range=[-120, 120],\n",
    "                       tickvals=[-120, -80, -50, -20, 0, 20, 50, 80, 120],\n",
    "                       ticktext=[120, 80, 50, 20, 0, 20, 50, 80, 120],\n",
    "                       title='Number of people'),\n",
    "                   barmode='overlay',\n",
    "                   bargap=0.1)\n",
    "\n",
    "data = [go.Bar(x=list(age_m.values()),\n",
    "               y=list(age_m.keys()),\n",
    "               orientation='h',\n",
    "               name='Men',\n",
    "               hoverinfo='x+y',\n",
    "               marker=dict(color='orange')\n",
    "               ),\n",
    "        go.Bar(x = list(age_w.values()), \n",
    "               y = list(age_w.keys()),\n",
    "               orientation='h',\n",
    "               name='Women',\n",
    "               hoverinfo='x+y',\n",
    "               marker = dict(color='seagreen')\n",
    "               )]\n",
    "\n",
    "py.iplot(dict(data=data, layout=layout)) "
   ]
  },
  {
   "cell_type": "code",
   "execution_count": 66,
   "metadata": {},
   "outputs": [
    {
     "data": {
      "text/html": [
       "\n",
       "        <iframe\n",
       "            width=\"100%\"\n",
       "            height=\"525px\"\n",
       "            src=\"https://plot.ly/~stannida19/55.embed\"\n",
       "            frameborder=\"0\"\n",
       "            allowfullscreen\n",
       "        ></iframe>\n",
       "        "
      ],
      "text/plain": [
       "<IPython.lib.display.IFrame at 0x7f2a1c948860>"
      ]
     },
     "execution_count": 66,
     "metadata": {},
     "output_type": "execute_result"
    }
   ],
   "source": [
    "w_school = women['school'].value_counts().to_dict()\n",
    "layout = go.Layout(title = \"School is mentioned - women\")\n",
    "trace = go.Pie(labels=['No', 'Yes', \"More than 1 school\"], values=list(w_school.values()),\n",
    "               hoverinfo='label+value', textinfo='percent', \n",
    "               textfont=dict(size=20))\n",
    "py.iplot(dict(data=[trace], layout=layout)) "
   ]
  },
  {
   "cell_type": "code",
   "execution_count": 67,
   "metadata": {},
   "outputs": [
    {
     "data": {
      "text/html": [
       "\n",
       "        <iframe\n",
       "            width=\"100%\"\n",
       "            height=\"525px\"\n",
       "            src=\"https://plot.ly/~stannida19/57.embed\"\n",
       "            frameborder=\"0\"\n",
       "            allowfullscreen\n",
       "        ></iframe>\n",
       "        "
      ],
      "text/plain": [
       "<IPython.lib.display.IFrame at 0x7f2a1c5dafd0>"
      ]
     },
     "execution_count": 67,
     "metadata": {},
     "output_type": "execute_result"
    }
   ],
   "source": [
    "m_school = men['school'].value_counts().to_dict()\n",
    "layout = go.Layout(title = \"School is mentioned - men\")\n",
    "trace = go.Pie(labels=['No', 'Yes', \"More than 1 school\"], values=list(m_school.values()),\n",
    "               hoverinfo='label+value', textinfo='percent', \n",
    "               textfont=dict(size=20))\n",
    "py.iplot(dict(data=[trace], layout=layout))"
   ]
  },
  {
   "cell_type": "code",
   "execution_count": 68,
   "metadata": {},
   "outputs": [
    {
     "data": {
      "text/html": [
       "\n",
       "        <iframe\n",
       "            width=\"100%\"\n",
       "            height=\"525px\"\n",
       "            src=\"https://plot.ly/~stannida19/59.embed\"\n",
       "            frameborder=\"0\"\n",
       "            allowfullscreen\n",
       "        ></iframe>\n",
       "        "
      ],
      "text/plain": [
       "<IPython.lib.display.IFrame at 0x7f2a1c089cc0>"
      ]
     },
     "execution_count": 68,
     "metadata": {},
     "output_type": "execute_result"
    }
   ],
   "source": [
    "m_job = men['job'].value_counts().to_dict()\n",
    "layout = go.Layout(title = \"Job is mentioned - men\")\n",
    "trace = go.Pie(labels=['No', 'Yes'], values=list(m_job.values()),\n",
    "               hoverinfo='label+value', textinfo='percent', \n",
    "               textfont=dict(size=20))\n",
    "py.iplot(dict(data=[trace], layout=layout)) "
   ]
  },
  {
   "cell_type": "code",
   "execution_count": 69,
   "metadata": {},
   "outputs": [
    {
     "data": {
      "text/html": [
       "\n",
       "        <iframe\n",
       "            width=\"100%\"\n",
       "            height=\"525px\"\n",
       "            src=\"https://plot.ly/~stannida19/61.embed\"\n",
       "            frameborder=\"0\"\n",
       "            allowfullscreen\n",
       "        ></iframe>\n",
       "        "
      ],
      "text/plain": [
       "<IPython.lib.display.IFrame at 0x7f2a1be20358>"
      ]
     },
     "execution_count": 69,
     "metadata": {},
     "output_type": "execute_result"
    }
   ],
   "source": [
    "w_job = women['job'].value_counts().to_dict()\n",
    "layout = go.Layout(title = \"Job is mentioned - women\")\n",
    "trace = go.Pie(labels=['No', 'Yes'], values=list(w_job.values()),\n",
    "               hoverinfo='label+value', textinfo='percent', \n",
    "               textfont=dict(size=20))\n",
    "py.iplot(dict(data=[trace], layout=layout)) "
   ]
  },
  {
   "cell_type": "code",
   "execution_count": 257,
   "metadata": {},
   "outputs": [
    {
     "name": "stdout",
     "output_type": "stream",
     "text": [
      "Gini coefficient for N of photos, men:  0.28643325763310623 \n",
      "Gini coefficient for N of words, men:  0.6881202217125382\n",
      "Gini coefficient for N of photos, women:  0.2635324873692868 \n",
      "Gini coefficient for N of words, women:  0.7693184512050573\n",
      "Percentage of empty Bio:  53.0612244898\n",
      "Percentage of empty Bio:  67.1309192201\n"
     ]
    }
   ],
   "source": [
    "def gini_coeff(x):\n",
    "    # requires all values in x to be zero or positive numbers,\n",
    "    # otherwise results are undefined\n",
    "    n = len(x)\n",
    "    s = x.sum()\n",
    "    r = np.argsort(np.argsort(-x)) # calculates zero-based ranks\n",
    "    return 1 - (2.0 * (r*x).sum() + s)/(n*s)\n",
    "\n",
    "m_n_words=men.loc[:,[\"n of Words\"]].values\n",
    "w_n_words=women.loc[:,[\"n of Words\"]].values\n",
    "print(\"Gini coefficient for N of photos, men: \", gini_coeff(men[\"pictures\"]),\"\\nGini coefficient for N of words, men: \",\n",
    "      gini_coeff(men[\"n of Words\"]))\n",
    "print(\"Gini coefficient for N of photos, women: \", gini_coeff(women[\"pictures\"]),\"\\nGini coefficient for N of words, women: \",\n",
    "      gini_coeff(women[\"n of Words\"]))\n",
    "print(\"Percentage of empty Bio: \", (men[\"bio\"].isnull().sum()/men[\"bio\"].count())*100) \n",
    "print(\"Percentage of empty Bio: \", (women[\"bio\"].isnull().sum()/women[\"bio\"].count())*100) "
   ]
  },
  {
   "cell_type": "code",
   "execution_count": 260,
   "metadata": {},
   "outputs": [
    {
     "data": {
      "image/png": "[encoded data removed]",
      "text/plain": [
       "<matplotlib.figure.Figure at 0x1a1f5792e8>"
      ]
     },
     "metadata": {},
     "output_type": "display_data"
    }
   ],
   "source": [
    "import seaborn as sns\n",
    "import matplotlib\n",
    "sns.set(color_codes=True)\n",
    "w_hist_photos = sns.distplot(women['pictures'], color=\"red\").set_title(\"Distribution of # of photos, women\")\n",
    "matplotlib.pyplot.show(w_hist_photos)"
   ]
  },
  {
   "cell_type": "code",
   "execution_count": 185,
   "metadata": {},
   "outputs": [
    {
     "data": {
      "image/png": "[encoded data removed]",
      "text/plain": [
       "<matplotlib.figure.Figure at 0x1a126a1198>"
      ]
     },
     "metadata": {},
     "output_type": "display_data"
    }
   ],
   "source": [
    "m_hist_photos = sns.distplot(men['pictures']).set_title(\"Distribution of # of photos, men\")\n",
    "matplotlib.pyplot.show(m_hist_photos)"
   ]
  },
  {
   "cell_type": "code",
   "execution_count": 255,
   "metadata": {},
   "outputs": [
    {
     "ename": "AttributeError",
     "evalue": "module 'seaborn' has no attribute 'set_ylim'",
     "output_type": "error",
     "traceback": [
      "\u001b[0;31m---------------------------------------------------------------------------\u001b[0m",
      "\u001b[0;31mAttributeError\u001b[0m                            Traceback (most recent call last)",
      "\u001b[0;32m<ipython-input-255-8ec4b4e16e94>\u001b[0m in \u001b[0;36m<module>\u001b[0;34m()\u001b[0m\n\u001b[1;32m     10\u001b[0m \u001b[0msns\u001b[0m\u001b[0;34m.\u001b[0m\u001b[0mdistplot\u001b[0m\u001b[0;34m(\u001b[0m \u001b[0mcity_5\u001b[0m\u001b[0;34m[\u001b[0m\u001b[0;34m\"pictures\"\u001b[0m\u001b[0;34m]\u001b[0m \u001b[0;34m,\u001b[0m \u001b[0mcolor\u001b[0m\u001b[0;34m=\u001b[0m\u001b[0;34m\"yellow\"\u001b[0m\u001b[0;34m,\u001b[0m \u001b[0mlabel\u001b[0m\u001b[0;34m=\u001b[0m\u001b[0;34m\"Frankfurt\"\u001b[0m\u001b[0;34m,\u001b[0m \u001b[0mhist\u001b[0m\u001b[0;34m=\u001b[0m\u001b[0;32mFalse\u001b[0m\u001b[0;34m,\u001b[0m \u001b[0mrug\u001b[0m\u001b[0;34m=\u001b[0m\u001b[0;32mTrue\u001b[0m\u001b[0;34m)\u001b[0m\u001b[0;34m\u001b[0m\u001b[0m\n\u001b[1;32m     11\u001b[0m \u001b[0msns\u001b[0m\u001b[0;34m.\u001b[0m\u001b[0mset\u001b[0m\u001b[0;34m(\u001b[0m\u001b[0mrc\u001b[0m\u001b[0;34m=\u001b[0m\u001b[0;34m{\u001b[0m\u001b[0;34m'figure.figsize'\u001b[0m\u001b[0;34m:\u001b[0m\u001b[0;34m(\u001b[0m\u001b[0;36m15\u001b[0m\u001b[0;34m,\u001b[0m\u001b[0;36m20\u001b[0m\u001b[0;34m)\u001b[0m\u001b[0;34m}\u001b[0m\u001b[0;34m)\u001b[0m\u001b[0;34m\u001b[0m\u001b[0m\n\u001b[0;32m---> 12\u001b[0;31m \u001b[0msns\u001b[0m\u001b[0;34m.\u001b[0m\u001b[0mset_ylim\u001b[0m\u001b[0;34m(\u001b[0m\u001b[0mbottom\u001b[0m\u001b[0;34m=\u001b[0m\u001b[0;36m0\u001b[0m\u001b[0;34m)\u001b[0m\u001b[0;34m\u001b[0m\u001b[0m\n\u001b[0m\u001b[1;32m     13\u001b[0m \u001b[0;31m#matplotlib.pyplot.show()\u001b[0m\u001b[0;34m\u001b[0m\u001b[0;34m\u001b[0m\u001b[0m\n\u001b[1;32m     14\u001b[0m \u001b[0msns\u001b[0m\u001b[0;34m.\u001b[0m\u001b[0mplt\u001b[0m\u001b[0;34m.\u001b[0m\u001b[0mshow\u001b[0m\u001b[0;34m(\u001b[0m\u001b[0;34m)\u001b[0m\u001b[0;34m\u001b[0m\u001b[0m\n",
      "\u001b[0;31mAttributeError\u001b[0m: module 'seaborn' has no attribute 'set_ylim'"
     ]
    }
   ],
   "source": [
    "city_1 = men.loc[men[\"location\"] == \"Koblenz\"]\n",
    "city_2 = men.loc[men[\"location\"] == \"Munich\"]\n",
    "city_3 = men.loc[men[\"location\"] == \"Cologne\"]\n",
    "city_4 = men.loc[men[\"location\"] == \"Berlin\"]\n",
    "city_5 = men.loc[men[\"location\"] == \"Frankfurt\"]\n",
    "sns.distplot( city_1[\"pictures\"] , color=\"skyblue\", label=\"Koblenz\", hist=False, rug=True)\n",
    "sns.distplot( city_2[\"pictures\"] , color=\"pink\", label=\"Munich\", hist=False, rug=True)\n",
    "sns.distplot( city_3[\"pictures\"] , color=\"orange\", label=\"Cologne\", hist=False, rug=True)\n",
    "sns.distplot( city_4[\"pictures\"] , color=\"green\", label=\"Berlin\", hist=False, rug=True)\n",
    "sns.distplot( city_5[\"pictures\"] , color=\"yellow\", label=\"Frankfurt\", hist=False, rug=True)\n",
    "sns.set(rc={'figure.figsize':(15,20)})\n",
    "sns.set_ylim(bottom=0)\n",
    "#matplotlib.pyplot.show()\n",
    "sns.plt.show()\n"
   ]
  },
  {
   "cell_type": "code",
   "execution_count": 195,
   "metadata": {},
   "outputs": [
    {
     "data": {
      "image/png": "[encoded data removed]",
      "text/plain": [
       "<matplotlib.figure.Figure at 0x1a121f3518>"
      ]
     },
     "metadata": {},
     "output_type": "display_data"
    }
   ],
   "source": [
    "sns.set(color_codes=True)\n",
    "m_hist_words = sns.distplot(men['n of Words'], color=\"red\").set_title(\"Distribution of # of words, men\")\n",
    "matplotlib.pyplot.show(m_hist_words)"
   ]
  },
  {
   "cell_type": "code",
   "execution_count": 196,
   "metadata": {},
   "outputs": [
    {
     "data": {
      "image/png": "[encoded data removed]",
      "text/plain": [
       "<matplotlib.figure.Figure at 0x1a113065c0>"
      ]
     },
     "metadata": {},
     "output_type": "display_data"
    }
   ],
   "source": [
    "w_hist_words = sns.distplot(women['n of Words'], color=\"red\").set_title(\"Distribution of # of words, women\")\n",
    "matplotlib.pyplot.show(w_hist_words)"
   ]
  },
  {
   "cell_type": "code",
   "execution_count": 200,
   "metadata": {},
   "outputs": [
    {
     "name": "stdout",
     "output_type": "stream",
     "text": [
      "t = -3.36190068802\n",
      "p = 0.000798505525796\n"
     ]
    }
   ],
   "source": [
    "from scipy import stats\n",
    "N = men.shape[0]\n",
    "var_f = women['n of Words'].var(ddof=1)\n",
    "var_m = men['n of Words'].var(ddof=1)\n",
    "s = np.sqrt((var_f + var_m)/2)\n",
    "t = (women['n of Words'].mean() - men['n of Words'].mean())/(s*np.sqrt(2/N))\n",
    "degf = 2*N - 2\n",
    "p = 1 - stats.t.cdf(abs(t),df=degf)\n",
    "print(\"t = \" + str(t))\n",
    "print(\"p = \" + str(2*p))"
   ]
  },
  {
   "cell_type": "code",
   "execution_count": 201,
   "metadata": {},
   "outputs": [
    {
     "name": "stdout",
     "output_type": "stream",
     "text": [
      "t = 2.53589868233\n",
      "p = 0.0113421361545\n"
     ]
    }
   ],
   "source": [
    "var_f = women['pictures'].var(ddof=1)\n",
    "var_m = men['pictures'].var(ddof=1)\n",
    "s = np.sqrt((var_f + var_m)/2)\n",
    "t = (women['pictures'].mean() - men['pictures'].mean())/(s*np.sqrt(2/N))\n",
    "degf = 2*N - 2\n",
    "p = 1 - stats.t.cdf(abs(t),df=degf)\n",
    "print(\"t = \" + str(t))\n",
    "print(\"p = \" + str(2*p))"
   ]
  },
  {
   "cell_type": "code",
   "execution_count": 202,
   "metadata": {},
   "outputs": [
    {
     "data": {
      "text/plain": [
       "4.7283333333333335"
      ]
     },
     "execution_count": 202,
     "metadata": {},
     "output_type": "execute_result"
    }
   ],
   "source": [
    "women['pictures'].mean()"
   ]
  },
  {
   "cell_type": "code",
   "execution_count": 203,
   "metadata": {},
   "outputs": [
    {
     "data": {
      "text/plain": [
       "4.403333333333333"
      ]
     },
     "execution_count": 203,
     "metadata": {},
     "output_type": "execute_result"
    }
   ],
   "source": [
    "men['pictures'].mean()"
   ]
  },
  {
   "cell_type": "code",
   "execution_count": 204,
   "metadata": {},
   "outputs": [
    {
     "data": {
      "text/plain": [
       "11.626666666666667"
      ]
     },
     "execution_count": 204,
     "metadata": {},
     "output_type": "execute_result"
    }
   ],
   "source": [
    "men['n of Words'].mean()"
   ]
  },
  {
   "cell_type": "code",
   "execution_count": 205,
   "metadata": {},
   "outputs": [
    {
     "data": {
      "text/plain": [
       "8.436666666666667"
      ]
     },
     "execution_count": 205,
     "metadata": {},
     "output_type": "execute_result"
    }
   ],
   "source": [
    "women['n of Words'].mean()"
   ]
  },
  {
   "cell_type": "code",
   "execution_count": 70,
   "metadata": {},
   "outputs": [
    {
     "data": {
      "text/html": [
       "\n",
       "        <iframe\n",
       "            width=\"100%\"\n",
       "            height=\"525px\"\n",
       "            src=\"https://plot.ly/~stannida19/63.embed\"\n",
       "            frameborder=\"0\"\n",
       "            allowfullscreen\n",
       "        ></iframe>\n",
       "        "
      ],
      "text/plain": [
       "<IPython.lib.display.IFrame at 0x7f2a1c04ec18>"
      ]
     },
     "execution_count": 70,
     "metadata": {},
     "output_type": "execute_result"
    }
   ],
   "source": [
    "inst_w = women['instagram'].value_counts().to_dict()\n",
    "inst_m = men['instagram'].value_counts().to_dict()\n",
    "layout = go.Layout(yaxis=go.layout.YAxis(title='Number of people'),\n",
    "                   xaxis=go.layout.XAxis(\n",
    "                       title='Is instagram linked'),\n",
    "                   bargap=0.1)\n",
    "data = [go.Bar(y=list(inst_w.values()),\n",
    "               x=list(inst_w.keys()),\n",
    "               name='Women',\n",
    "               hoverinfo='x+y',\n",
    "               marker=dict(color='orange')\n",
    "               ),\n",
    "        go.Bar(y = list(inst_m.values()), \n",
    "               x = list(inst_m.keys()),\n",
    "               name='Men',\n",
    "               hoverinfo='x+y',\n",
    "               marker = dict(color='seagreen')\n",
    "               )]\n",
    "\n",
    "py.iplot(dict(data=data, layout=layout)) "
   ]
  },
  {
   "cell_type": "code",
   "execution_count": 233,
   "metadata": {},
   "outputs": [
    {
     "name": "stdout",
     "output_type": "stream",
     "text": [
      "===Chi2 Stat===\n",
      "8.18226891748\n",
      "\n",
      "\n",
      "===Degrees of Freedom===\n",
      "1\n",
      "\n",
      "\n",
      "===P-Value===\n",
      "0.00423018168145\n",
      "\n",
      "\n",
      "===Contingency Table===\n",
      "[[ 492.5  492.5]\n",
      " [ 107.5  107.5]]\n"
     ]
    }
   ],
   "source": [
    "inst_w = women['instagram'].value_counts()\n",
    "inst_m = men['instagram'].value_counts()\n",
    "instagram = pd.concat([inst_w, inst_m], axis=1)\n",
    "chi2_stat, p_val, dof, ex = stats.chi2_contingency(instagram)\n",
    "print(\"===Chi2 Stat===\")\n",
    "print(chi2_stat)\n",
    "print(\"\\n\")\n",
    "print(\"===Degrees of Freedom===\")\n",
    "print(dof)\n",
    "print(\"\\n\")\n",
    "print(\"===P-Value===\")\n",
    "print(p_val)\n",
    "print(\"\\n\")\n",
    "print(\"===Contingency Table===\")\n",
    "print(ex)"
   ]
  },
  {
   "cell_type": "code",
   "execution_count": null,
   "metadata": {
    "collapsed": true
   },
   "outputs": [],
   "source": []
  }
 ],
 "metadata": {
  "kernelspec": {
   "display_name": "Python 3",
   "language": "python",
   "name": "python3"
  },
  "language_info": {
   "codemirror_mode": {
    "name": "ipython",
    "version": 3
   },
   "file_extension": ".py",
   "mimetype": "text/x-python",
   "name": "python",
   "nbconvert_exporter": "python",
   "pygments_lexer": "ipython3",
   "version": "3.7.0"
  }
 },
 "nbformat": 4,
 "nbformat_minor": 2
}
