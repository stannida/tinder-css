{
 "cells": [
  {
   "cell_type": "code",
   "execution_count": 3,
   "metadata": {
    "collapsed": true
   },
   "outputs": [],
   "source": [
    "#move to requirements.txt\n",
    "import pandas as pd\n",
    "import numpy as np\n",
    "import qgrid\n",
    "import re\n",
    "import plotly\n",
    "import plotly.plotly as py\n",
    "import plotly.graph_objs as go\n",
    "plotly.tools.set_credentials_file(username='stannida', api_key='tTDV8Tk5xqORM8dE27b8')"
   ]
  },
  {
   "cell_type": "code",
   "execution_count": 5,
   "metadata": {},
   "outputs": [
    {
     "data": {
      "application/vnd.jupyter.widget-view+json": {
       "model_id": "f37c8a398c5343b89c7cc9ae22651183",
       "version_major": 2,
       "version_minor": 0
      },
      "text/plain": [
       "A Jupyter Widget"
      ]
     },
     "metadata": {},
     "output_type": "display_data"
    }
   ],
   "source": [
    "df=pd.read_csv('people.csv')\n",
    "\n",
    "def calculate_words(line):\n",
    "    bio =''.join(str(line))\n",
    "    if 'nan' in bio:\n",
    "        return 0\n",
    "    else:\n",
    "        return(len(re.findall(r'\\w+', bio)))\n",
    "\n",
    "df['N of Words'] = np.nan\n",
    "for index, row in df.iterrows():\n",
    "    df.at[index, 'N of Words'] = calculate_words(row['Bio'])\n",
    "df=df[['Name', 'Age', 'Bio', 'N of Words', 'Distance(from Koblenz)', 'school', 'job',\n",
    "       'number of photos', 'instagram', 'spotify']]\n",
    "qgrid.show_grid(df)"
   ]
  },
  {
   "cell_type": "code",
   "execution_count": 30,
   "metadata": {},
   "outputs": [
    {
     "name": "stdout",
     "output_type": "stream",
     "text": [
      "0.2980038022813688 0.7054849547180835\n"
     ]
    }
   ],
   "source": [
    "#import gini\n",
    "\n",
    "def gini_coeff(x):\n",
    "    # requires all values in x to be zero or positive numbers,\n",
    "    # otherwise results are undefined\n",
    "    n = len(x)\n",
    "    s = x.sum()\n",
    "    r = np.argsort(np.argsort(-x)) # calculates zero-based ranks\n",
    "    return 1 - (2.0 * (r*x).sum() + s)/(n*s)\n",
    "\n",
    "a=df.loc[1:60,[\"N of Words\"]].values\n",
    "b=df.loc[61:120,[\"N of Words\"]].values\n",
    "print(gini_coeff(df[\"number of photos\"]), gini_coeff(df[\"N of Words\"]))"
   ]
  },
  {
   "cell_type": "code",
   "execution_count": null,
   "metadata": {
    "collapsed": true
   },
   "outputs": [],
   "source": []
  }
 ],
 "metadata": {
  "kernelspec": {
   "display_name": "Python 3",
   "language": "python",
   "name": "python3"
  },
  "language_info": {
   "codemirror_mode": {
    "name": "ipython",
    "version": 3
   },
   "file_extension": ".py",
   "mimetype": "text/x-python",
   "name": "python",
   "nbconvert_exporter": "python",
   "pygments_lexer": "ipython3",
   "version": "3.6.3"
  }
 },
 "nbformat": 4,
 "nbformat_minor": 2
}
