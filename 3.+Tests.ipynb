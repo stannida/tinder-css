{
 "cells": [
  {
   "cell_type": "code",
   "execution_count": 53,
   "metadata": {
    "collapsed": true
   },
   "outputs": [],
   "source": [
    "#move to requirements.txt\n",
    "import pandas as pd\n",
    "import numpy as np\n",
    "import qgrid\n",
    "import re\n",
    "import plotly\n",
    "import plotly.plotly as py\n",
    "import plotly.graph_objs as go\n",
    "plotly.tools.set_credentials_file(username='stannida', api_key='tTDV8Tk5xqORM8dE27b8')"
   ]
  },
  {
   "cell_type": "code",
   "execution_count": 80,
   "metadata": {},
   "outputs": [
    {
     "data": {
      "application/vnd.jupyter.widget-view+json": {
       "model_id": "c59a54bf50a141ae8b8a3c8e4922f613",
       "version_major": 2,
       "version_minor": 0
      },
      "text/plain": [
       "A Jupyter Widget"
      ]
     },
     "metadata": {},
     "output_type": "display_data"
    }
   ],
   "source": [
    "df=pd.read_csv('people.csv')\n",
    "\n",
    "def calculate_words(line):\n",
    "    bio =''.join(str(line))\n",
    "    if 'nan' in bio:\n",
    "        return 0\n",
    "    else:\n",
    "        return(len(re.findall(r'\\w+', bio)))\n",
    "\n",
    "df['N of Words'] = np.nan\n",
    "for index, row in df.iterrows():\n",
    "    df.at[index, 'N of Words'] = calculate_words(row['Bio'])\n",
    "df=df[['Name', 'Age', 'Bio', 'N of Words', 'Distance(from Koblenz)', 'school', 'job',\n",
    "       'number of photos', 'instagram', 'spotify']]\n",
    "qgrid.show_grid(df)"
   ]
  },
  {
   "cell_type": "code",
   "execution_count": 82,
   "metadata": {},
   "outputs": [
    {
     "name": "stdout",
     "output_type": "stream",
     "text": [
      "Gini coefficient for N of photos:  0.2980038022813688 \n",
      "Gini coefficient for N of words:  0.7054849547180835\n",
      "Percentage of empty Bio:  79.1044776119\n"
     ]
    }
   ],
   "source": [
    "#import gini\n",
    "\n",
    "def gini_coeff(x):\n",
    "    # requires all values in x to be zero or positive numbers,\n",
    "    # otherwise results are undefined\n",
    "    n = len(x)\n",
    "    s = x.sum()\n",
    "    r = np.argsort(np.argsort(-x)) # calculates zero-based ranks\n",
    "    return 1 - (2.0 * (r*x).sum() + s)/(n*s)\n",
    "\n",
    "a=df.loc[1:60,[\"N of Words\"]].values\n",
    "b=df.loc[61:120,[\"N of Words\"]].values\n",
    "print(\"Gini coefficient for N of photos: \", gini_coeff(df[\"number of photos\"]),\"\\nGini coefficient for N of words: \",\n",
    "      gini_coeff(df[\"N of Words\"]))\n",
    "print(\"Percentage of empty Bio: \", (df[\"Bio\"].isnull().sum()/df[\"Bio\"].count())*100) \n",
    "#print(df['number of photos'][1].value_counts())"
   ]
  },
  {
   "cell_type": "code",
   "execution_count": 52,
   "metadata": {},
   "outputs": [
    {
     "name": "stdout",
     "output_type": "stream",
     "text": [
      "[[ 1.          0.          0.         ...,  0.          0.19364917  0.        ]\n",
      " [ 0.          0.          0.         ...,  0.          0.          0.        ]\n",
      " [ 0.          0.          1.         ...,  0.          0.          0.        ]\n",
      " ..., \n",
      " [ 0.          0.          0.         ...,  1.          0.          0.        ]\n",
      " [ 0.19364917  0.          0.         ...,  0.          1.          0.        ]\n",
      " [ 0.          0.          0.         ...,  0.          0.          0.        ]]\n"
     ]
    }
   ],
   "source": [
    "from sklearn.feature_extraction.text import CountVectorizer\n",
    "df[\"Bio\"] = df[\"Bio\"].replace(np.nan, '', regex=True)\n",
    "count_vectorizer = CountVectorizer(stop_words='english')\n",
    "count_vectorizer = CountVectorizer()\n",
    "sparse_matrix = count_vectorizer.fit_transform(df['Bio'])\n",
    "doc_term_matrix = sparse_matrix.todense()\n",
    "df_bio = pd.DataFrame(doc_term_matrix, columns = count_vectorizer.get_feature_names())\n",
    "#df_bio\n",
    "from sklearn.metrics.pairwise import cosine_similarity\n",
    "print(cosine_similarity(df_bio, df_bio))"
   ]
  },
  {
   "cell_type": "code",
   "execution_count": null,
   "metadata": {
    "collapsed": true
   },
   "outputs": [],
   "source": []
  }
 ],
 "metadata": {
  "kernelspec": {
   "display_name": "Python 3",
   "language": "python",
   "name": "python3"
  },
  "language_info": {
   "codemirror_mode": {
    "name": "ipython",
    "version": 3
   },
   "file_extension": ".py",
   "mimetype": "text/x-python",
   "name": "python",
   "nbconvert_exporter": "python",
   "pygments_lexer": "ipython3",
   "version": "3.6.3"
  }
 },
 "nbformat": 4,
 "nbformat_minor": 2
}
