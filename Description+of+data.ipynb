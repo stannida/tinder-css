{
 "cells": [
  {
   "cell_type": "code",
   "execution_count": 7,
   "metadata": {},
   "outputs": [],
   "source": [
    "import pandas as pd\n",
    "import plotly\n",
    "import plotly.plotly as py\n",
    "import plotly.graph_objs as go\n",
    "plotly.tools.set_credentials_file(username='stannida', api_key='tTDV8Tk5xqORM8dE27b8')"
   ]
  },
  {
   "cell_type": "code",
   "execution_count": 2,
   "metadata": {
    "collapsed": true
   },
   "outputs": [],
   "source": [
    "females = pd.read_csv(\"people.csv\")"
   ]
  },
  {
   "cell_type": "code",
   "execution_count": 3,
   "metadata": {},
   "outputs": [
    {
     "data": {
      "text/html": [
       "<div>\n",
       "<style>\n",
       "    .dataframe thead tr:only-child th {\n",
       "        text-align: right;\n",
       "    }\n",
       "\n",
       "    .dataframe thead th {\n",
       "        text-align: left;\n",
       "    }\n",
       "\n",
       "    .dataframe tbody tr th {\n",
       "        vertical-align: top;\n",
       "    }\n",
       "</style>\n",
       "<table border=\"1\" class=\"dataframe\">\n",
       "  <thead>\n",
       "    <tr style=\"text-align: right;\">\n",
       "      <th></th>\n",
       "      <th>Name</th>\n",
       "      <th>Age</th>\n",
       "      <th>Bio</th>\n",
       "      <th>Distance(from Koblenz)</th>\n",
       "      <th>school</th>\n",
       "      <th>job</th>\n",
       "      <th>number of photos</th>\n",
       "      <th>instagram</th>\n",
       "      <th>spotify</th>\n",
       "    </tr>\n",
       "  </thead>\n",
       "  <tbody>\n",
       "    <tr>\n",
       "      <th>0</th>\n",
       "      <td>Giulia</td>\n",
       "      <td>20</td>\n",
       "      <td>20 | Jura | Travel | Fitness | Food is Love\\nC...</td>\n",
       "      <td>48</td>\n",
       "      <td>1</td>\n",
       "      <td>0</td>\n",
       "      <td>6</td>\n",
       "      <td>0</td>\n",
       "      <td>0</td>\n",
       "    </tr>\n",
       "    <tr>\n",
       "      <th>1</th>\n",
       "      <td>Zeynep</td>\n",
       "      <td>19</td>\n",
       "      <td>NaN</td>\n",
       "      <td>72</td>\n",
       "      <td>0</td>\n",
       "      <td>0</td>\n",
       "      <td>1</td>\n",
       "      <td>0</td>\n",
       "      <td>0</td>\n",
       "    </tr>\n",
       "    <tr>\n",
       "      <th>2</th>\n",
       "      <td>Larissa</td>\n",
       "      <td>21</td>\n",
       "      <td>Insta: _larilou1_</td>\n",
       "      <td>44</td>\n",
       "      <td>0</td>\n",
       "      <td>0</td>\n",
       "      <td>4</td>\n",
       "      <td>0</td>\n",
       "      <td>0</td>\n",
       "    </tr>\n",
       "    <tr>\n",
       "      <th>3</th>\n",
       "      <td>Sina</td>\n",
       "      <td>26</td>\n",
       "      <td>tennis\\ncanoe slalom \\nstudying economic psych...</td>\n",
       "      <td>48</td>\n",
       "      <td>1</td>\n",
       "      <td>1</td>\n",
       "      <td>7</td>\n",
       "      <td>1</td>\n",
       "      <td>0</td>\n",
       "    </tr>\n",
       "    <tr>\n",
       "      <th>4</th>\n",
       "      <td>Kimberley</td>\n",
       "      <td>19</td>\n",
       "      <td>NaN</td>\n",
       "      <td>93</td>\n",
       "      <td>0</td>\n",
       "      <td>0</td>\n",
       "      <td>5</td>\n",
       "      <td>0</td>\n",
       "      <td>0</td>\n",
       "    </tr>\n",
       "  </tbody>\n",
       "</table>\n",
       "</div>"
      ],
      "text/plain": [
       "        Name  Age                                                Bio  \\\n",
       "0     Giulia   20  20 | Jura | Travel | Fitness | Food is Love\\nC...   \n",
       "1     Zeynep   19                                                NaN   \n",
       "2    Larissa   21                                  Insta: _larilou1_   \n",
       "3       Sina   26  tennis\\ncanoe slalom \\nstudying economic psych...   \n",
       "4  Kimberley   19                                                NaN   \n",
       "\n",
       "   Distance(from Koblenz)  school  job  number of photos  instagram  spotify  \n",
       "0                      48       1    0                 6          0        0  \n",
       "1                      72       0    0                 1          0        0  \n",
       "2                      44       0    0                 4          0        0  \n",
       "3                      48       1    1                 7          1        0  \n",
       "4                      93       0    0                 5          0        0  "
      ]
     },
     "execution_count": 3,
     "metadata": {},
     "output_type": "execute_result"
    }
   ],
   "source": [
    "females.head()"
   ]
  },
  {
   "cell_type": "code",
   "execution_count": 9,
   "metadata": {},
   "outputs": [
    {
     "data": {
      "text/html": [
       "<iframe id=\"igraph\" scrolling=\"no\" style=\"border:none;\" seamless=\"seamless\" src=\"https://plot.ly/~stannida/14.embed\" height=\"525px\" width=\"100%\"></iframe>"
      ],
      "text/plain": [
       "<chart_studio.tools.PlotlyDisplay object>"
      ]
     },
     "execution_count": 9,
     "metadata": {},
     "output_type": "execute_result"
    }
   ],
   "source": [
    "age = females['Age'].value_counts().to_dict()\n",
    "layout = go.Layout(yaxis=go.layout.YAxis(title='Age'),\n",
    "                   xaxis=go.layout.XAxis(\n",
    "                       range=[-20, 20],\n",
    "                       tickvals=[-20, -10, -5, 0, 5, 10, 20],\n",
    "                       ticktext=[20, 10, 5, 0, 5, 10, 20],\n",
    "                       title='Number'),\n",
    "                   barmode='overlay',\n",
    "                   bargap=0.1)\n",
    "\n",
    "data = [#go.Bar(y=,\n",
    "               #x=men_bins,\n",
    "               #orientation='h',\n",
    "               #name='Men',\n",
    "               #hoverinfo='x',\n",
    "               #marker=dict(color='powderblue')\n",
    "               #),\n",
    "        go.Bar(x = list(age.values()), \n",
    "               y = list(age.keys()),\n",
    "               orientation='h',\n",
    "               name='Women',\n",
    "               #text=-1 * age.astype('int'),\n",
    "               hoverinfo='x+y',\n",
    "               marker = dict(color='seagreen')\n",
    "               )]\n",
    "\n",
    "py.iplot(dict(data=data, layout=layout)) "
   ]
  },
  {
   "cell_type": "code",
   "execution_count": 23,
   "metadata": {},
   "outputs": [
    {
     "data": {
      "text/html": [
       "<iframe id=\"igraph\" scrolling=\"no\" style=\"border:none;\" seamless=\"seamless\" src=\"https://plot.ly/~stannida/30.embed\" height=\"525px\" width=\"100%\"></iframe>"
      ],
      "text/plain": [
       "<chart_studio.tools.PlotlyDisplay object>"
      ]
     },
     "execution_count": 23,
     "metadata": {},
     "output_type": "execute_result"
    }
   ],
   "source": [
    "school = females['school'].value_counts().to_dict()\n",
    "layout = go.Layout(title = \"School is mentioned\")\n",
    "trace = go.Pie(labels=['No school', 'School'], values=list(school.values()),\n",
    "               hoverinfo='label+value', textinfo='percent', \n",
    "               textfont=dict(size=20))\n",
    "py.iplot(dict(data=[trace], layout=layout)) "
   ]
  },
  {
   "cell_type": "code",
   "execution_count": 24,
   "metadata": {},
   "outputs": [
    {
     "data": {
      "text/html": [
       "<iframe id=\"igraph\" scrolling=\"no\" style=\"border:none;\" seamless=\"seamless\" src=\"https://plot.ly/~stannida/32.embed\" height=\"525px\" width=\"100%\"></iframe>"
      ],
      "text/plain": [
       "<chart_studio.tools.PlotlyDisplay object>"
      ]
     },
     "execution_count": 24,
     "metadata": {},
     "output_type": "execute_result"
    }
   ],
   "source": [
    "job = females['job'].value_counts().to_dict()\n",
    "layout = go.Layout(title = \"Job is mentioned\")\n",
    "trace = go.Pie(labels=['No job', 'Job'], values=list(job.values()),\n",
    "               hoverinfo='label+value', textinfo='percent', \n",
    "               textfont=dict(size=20))\n",
    "py.iplot(dict(data=[trace], layout=layout)) "
   ]
  },
  {
   "cell_type": "code",
   "execution_count": null,
   "metadata": {
    "collapsed": true
   },
   "outputs": [],
   "source": []
  }
 ],
 "metadata": {
  "kernelspec": {
   "display_name": "Python 3",
   "language": "python",
   "name": "python3"
  },
  "language_info": {
   "codemirror_mode": {
    "name": "ipython",
    "version": 3
   },
   "file_extension": ".py",
   "mimetype": "text/x-python",
   "name": "python",
   "nbconvert_exporter": "python",
   "pygments_lexer": "ipython3",
   "version": "3.6.3"
  }
 },
 "nbformat": 4,
 "nbformat_minor": 2
}
