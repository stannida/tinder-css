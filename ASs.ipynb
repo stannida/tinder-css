{
 "cells": [
  {
   "cell_type": "code",
   "execution_count": null,
   "metadata": {},
   "outputs": [],
   "source": [
    "For_N_EMOJI= df['Bio']\n",
    "def extract_emojis(str):\n",
    "    return ''.join(c for c in str if c in emoji.UNICODE_EMOJI)\n",
    "EMOJI=[]\n",
    "for s in range(len(For_N_EMOJI)):\n",
    "    str3=''.join(str(For_N_EMOJI[s]))\n",
    "    e=extract_emojis(str3)\n",
    "    if e == 'nan' or e == '''''':\n",
    "        EMOJI.append(0)\n",
    "    else:\n",
    "        em_split_emoji = emoji.get_emoji_regexp().split(e)\n",
    "        em_split_whitespace = [substr.split() for substr in em_split_emoji]\n",
    "        em_split = functools.reduce(operator.concat, em_split_whitespace)\n",
    "        EMOJI.append(em_split)\n",
    "print(EMOJI)"
   ]
  }
 ],
 "metadata": {
  "kernelspec": {
   "display_name": "Python 3",
   "language": "python",
   "name": "python3"
  },
  "language_info": {
   "codemirror_mode": {
    "name": "ipython",
    "version": 3
   },
   "file_extension": ".py",
   "mimetype": "text/x-python",
   "name": "python",
   "nbconvert_exporter": "python",
   "pygments_lexer": "ipython3",
   "version": "3.7.3"
  }
 },
 "nbformat": 4,
 "nbformat_minor": 2
}
