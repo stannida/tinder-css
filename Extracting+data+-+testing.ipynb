{
 "cells": [
  {
   "cell_type": "code",
   "execution_count": null,
   "metadata": {
    "collapsed": true
   },
   "outputs": [],
   "source": [
    "# in this notebook we test extracting data for one user\n",
    "# we need: \n",
    "# age\n",
    "# number of photos\n",
    "# bio\n",
    "# links to the social accounts (0 - none, 1 - instagram OR spotify, 2 - instagram AND spotify)\n",
    "# we store it as a pandas dataframe"
   ]
  }
 ],
 "metadata": {
  "kernelspec": {
   "display_name": "Python 3",
   "language": "python",
   "name": "python3"
  },
  "language_info": {
   "codemirror_mode": {
    "name": "ipython",
    "version": 3
   },
   "file_extension": ".py",
   "mimetype": "text/x-python",
   "name": "python",
   "nbconvert_exporter": "python",
   "pygments_lexer": "ipython3",
   "version": "3.6.3"
  }
 },
 "nbformat": 4,
 "nbformat_minor": 2
}
