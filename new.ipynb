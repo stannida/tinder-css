{
 "cells": [
  {
   "cell_type": "code",
   "execution_count": 31,
   "metadata": {
    "collapsed": true
   },
   "outputs": [],
   "source": [
    "#move to requirements.txt\n",
    "import pandas as pd\n",
    "import numpy as np\n",
    "from collections import Counter\n",
    "import re\n",
    "import qgrid\n",
    "import plotly\n",
    "import plotly.plotly as py\n",
    "import plotly.graph_objs as go\n",
    "plotly.tools.set_credentials_file(username='stannida', api_key='tTDV8Tk5xqORM8dE27b8')",
    "import emoji"
   ]
  },
  {
   "cell_type": "markdown",
   "metadata": {},
   "source": [
    "# The dataset\n",
    "#### The following table shows the dataset that has been collected from the multiple Tinder accounts. \n",
    "#### The columns represent the following information:\n",
    "Name -  firstname of a person in Tinder <br>\n",
    "Age -  age in Tinder (cannot be hidden in regular accounts) <br>\n",
    "Bio -  biography of a person in Tinder (can be empty) <br>\n",
    "N of Words -  number of words in bio <br>\n",
    "Distance -  the number of kilometers a person is away from an account that has been used for crawling <br>\n",
    "School -  boolean variable, shows if an education is mentioned <br>\n",
    "Job -  boolean variable, shows if work is mentioned <br>\n",
    "Number of photos -  number of photos that a person has in an account (always more than 1) <br>\n",
    "Instagram -  boolean variable, shows if Instagram account is linked <br>\n",
    "Spotify -  boolean variable, shows if Spotify account is linked <br>"
   ]
  },
  {
   "cell_type": "code",
   "execution_count": 17,
   "metadata": {},
   "outputs": [
    {
     "data": {
      "application/vnd.jupyter.widget-view+json": {
       "model_id": "9d2515cce4f64266a55430b3e6281360",
       "version_major": 2,
       "version_minor": 0
      },
      "text/plain": [
       "A Jupyter Widget"
      ]
     },
     "metadata": {},
     "output_type": "display_data"
    }
   ],
   "source": [
    "df=pd.read_csv('people.csv')\n",
    "\n",
    "def calculate_words(line):\n",
    "    bio =''.join(str(line))\n",
    "    if 'nan' in bio:\n",
    "        return 0\n",
    "    else:\n",
    "        return(len(re.findall(r'\\w+', bio)))\n",
    "\n",
    "df['N of Words'] = np.nan\n",
    "for index, row in df.iterrows():\n",
    "    df.at[index, 'N of Words'] = calculate_words(row['Bio'])\n",
    "    #df.loc[index, ['N of words']] = calculate_words(row)\n",
    "df=df[['Name', 'Age', 'Bio', 'N of Words', 'Distance(from Koblenz)', 'school', 'job',\n",
    "       'number of photos', 'instagram', 'spotify']]\n",
    "qgrid.show_grid(df)"
   ]
  },
  {
   "cell_type": "code",
   "execution_count": 21,
   "metadata": {},
   "outputs": [],
   "source": [
    "Quantity_of_words=list(df['Bio'].value_counts().keys())\n",
    "str1 =''.join(str(w) for w in Quantity_of_words)\n",
    "word_list=re.findall(r'(\\b[A-Za-z][a-z]{2,9}\\b)', str1)\n",
    "stop_list = ['the', 'und', 'and', 'for', 'you']\n",
    "for x in word_list:\n",
    "    if x in stop_list:\n",
    "        word_list.remove(x)"
   ]
  },
  {
   "cell_type": "markdown",
   "metadata": {},
   "source": [
    "#### The following table shows the 15 most common words used in the biography by Tinder users:"
   ]
  },
  {
   "cell_type": "code",
   "execution_count": 30,
   "metadata": {},
   "outputs": [
    {
     "data": {
      "application/vnd.jupyter.widget-view+json": {
       "model_id": "a4c7b14a14c0457fbbce09b8935c89c0",
       "version_major": 2,
       "version_minor": 0
      },
      "text/plain": [
       "A Jupyter Widget"
      ]
     },
     "metadata": {},
     "output_type": "display_data"
    }
   ],
   "source": [
    "c=Counter()\n",
    "for letter in word_list:\n",
    "    c[letter] += 1\n",
    "qgrid.show_grid(pd.DataFrame(c.most_common(15), columns = [\"Word\", \"Frequency\"]))"
   ]
  },
  {
   "cell_type": "code",
   "execution_count": 33,
   "metadata": {},
   "outputs": [
    {
     "data": {
      "text/html": [
       "<iframe id=\"igraph\" scrolling=\"no\" style=\"border:none;\" seamless=\"seamless\" src=\"https://plot.ly/~stannida/34.embed\" height=\"525px\" width=\"100%\"></iframe>"
      ],
      "text/plain": [
       "<chart_studio.tools.PlotlyDisplay object>"
      ]
     },
     "execution_count": 33,
     "metadata": {},
     "output_type": "execute_result"
    }
   ],
   "source": [
    "age = df['Age'].value_counts().to_dict()\n",
    "layout = go.Layout(yaxis=go.layout.YAxis(title='Age'),\n",
    "                   xaxis=go.layout.XAxis(\n",
    "                       range=[-20, 20],\n",
    "                       tickvals=[-20, -10, -5, 0, 5, 10, 20],\n",
    "                       ticktext=[20, 10, 5, 0, 5, 10, 20],\n",
    "                       title='Number'),\n",
    "                   barmode='overlay',\n",
    "                   bargap=0.1)\n",
    "\n",
    "data = [#go.Bar(y=,\n",
    "               #x=men_bins,\n",
    "               #orientation='h',\n",
    "               #name='Men',\n",
    "               #hoverinfo='x',\n",
    "               #marker=dict(color='powderblue')\n",
    "               #),\n",
    "        go.Bar(x = list(age.values()), \n",
    "               y = list(age.keys()),\n",
    "               orientation='h',\n",
    "               name='Women',\n",
    "               #text=-1 * age.astype('int'),\n",
    "               hoverinfo='x+y',\n",
    "               marker = dict(color='seagreen')\n",
    "               )]\n",
    "\n",
    "py.iplot(dict(data=data, layout=layout)) "
   ]
  },
  {
   "cell_type": "code",
   "execution_count": 34,
   "metadata": {},
   "outputs": [
    {
     "data": {
      "text/html": [
       "<iframe id=\"igraph\" scrolling=\"no\" style=\"border:none;\" seamless=\"seamless\" src=\"https://plot.ly/~stannida/36.embed\" height=\"525px\" width=\"100%\"></iframe>"
      ],
      "text/plain": [
       "<chart_studio.tools.PlotlyDisplay object>"
      ]
     },
     "execution_count": 34,
     "metadata": {},
     "output_type": "execute_result"
    }
   ],
   "source": [
    "school = df['school'].value_counts().to_dict()\n",
    "layout = go.Layout(title = \"School is mentioned\")\n",
    "trace = go.Pie(labels=['No school', 'School'], values=list(school.values()),\n",
    "               hoverinfo='label+value', textinfo='percent', \n",
    "               textfont=dict(size=20))\n",
    "py.iplot(dict(data=[trace], layout=layout)) "
   ]
  },
  {
   "cell_type": "code",
   "execution_count": 36,
   "metadata": {},
   "outputs": [
    {
     "data": {
      "text/html": [
       "<iframe id=\"igraph\" scrolling=\"no\" style=\"border:none;\" seamless=\"seamless\" src=\"https://plot.ly/~stannida/38.embed\" height=\"525px\" width=\"100%\"></iframe>"
      ],
      "text/plain": [
       "<chart_studio.tools.PlotlyDisplay object>"
      ]
     },
     "execution_count": 36,
     "metadata": {},
     "output_type": "execute_result"
    }
   ],
   "source": [
    "job = df['job'].value_counts().to_dict()\n",
    "layout = go.Layout(title = \"Job is mentioned\")\n",
    "trace = go.Pie(labels=['No job', 'Job'], values=list(job.values()),\n",
    "               hoverinfo='label+value', textinfo='percent', \n",
    "               textfont=dict(size=20))\n",
    "py.iplot(dict(data=[trace], layout=layout)) "
   ]
  },
  {
   "cell_type": "code",
   "execution_count": null,
   "metadata": {
    "collapsed": true
   },
   "outputs": [],
   "source": []
  }
 ],
 "metadata": {
  "kernelspec": {
   "display_name": "Python 3",
   "language": "python",
   "name": "python3"
  },
  "language_info": {
   "codemirror_mode": {
    "name": "ipython",
    "version": 3
   },
   "file_extension": ".py",
   "mimetype": "text/x-python",
   "name": "python",
   "nbconvert_exporter": "python",
   "pygments_lexer": "ipython3",
   "version": "3.6.3"
  }
 },
 "nbformat": 4,
 "nbformat_minor": 2
}
