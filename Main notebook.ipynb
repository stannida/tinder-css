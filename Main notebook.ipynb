{
 "cells": [
  {
   "cell_type": "code",
   "execution_count": 1,
   "metadata": {},
   "outputs": [],
   "source": [
    "import pandas as pd\n",
    "import numpy as np\n",
    "from collections import Counter\n",
    "import re\n",
    "import qgrid\n",
    "import chart_studio.plotly as py\n",
    "import plotly.graph_objs as go\n",
    "from nltk.tokenize import word_tokenize\n",
    "import numpy as np\n",
    "from nltk.corpus import stopwords\n",
    "from nltk.stem import PorterStemmer\n",
    "from collections import Counter\n",
    "from num2words import num2words\n",
    "py.sign_in('stannida19', 'xB5NhahpUVK3Q3t6O8oZ')\n",
    "!jupyter nbextension enable --py --sys-prefix qgrid\n",
    "!jupyter nbextension enable --py --sys-prefix widgetsnbextension"
   ]
  },
  {
   "cell_type": "markdown",
   "metadata": {},
   "source": [
    "# The dataset\n",
    "#### The following table shows the dataset that has been collected from the multiple Tinder accounts. \n",
    "#### The columns represent the following information:\n",
    "name -  firstname of a person in Tinder <br>\n",
    "age -  age in Tinder (cannot be hidden in regular accounts) <br>\n",
    "bio -  biography of a person in Tinder (can be empty) <br>\n",
    "n of Words -  number of words in bio <br>\n",
    "distance -  the number of kilometers a person is away from an account that has been used for crawling <br>\n",
    "school -  boolean variable, shows if an education is mentioned <br>\n",
    "job -  boolean variable, shows if work is mentioned <br>\n",
    "pictures -  number of photos that a person has in an account (cannot be 0) <br>\n",
    "instagram -  boolean variable, shows if Instagram account is linked <br>\n",
    "location -  a city from where accounts have been crawled <br>\n",
    "#### If the table is not displayed, please restart the notebook!",
   ]
  },
  {
   "cell_type": "code",
   "execution_count": 2,
   "metadata": {},
   "outputs": [
    {
     "data": {
      "application/vnd.jupyter.widget-view+json": {
       "model_id": "0cf38942a5134febb5b7bec3802d4b99",
       "version_major": 2,
       "version_minor": 0
      },
      "text/plain": [
       "A Jupyter Widget"
      ]
     },
     "metadata": {},
     "output_type": "display_data"
    }
   ],
   "source": [
    "men=pd.read_csv('man.csv', index_col=False)\n",
    "women=pd.read_csv('woman.csv', index_col=False)\n",
    "\n",
    "def calculate_words(line):\n",
    "    bio =''.join(str(line))\n",
    "    if 'nan' in bio:\n",
    "        return 0\n",
    "    else:\n",
    "        return(len(re.findall(r'\\w+', bio)))\n",
    "def initialize(df):\n",
    "    df['n of Words'] = np.nan\n",
    "    df['bio'] = df[\"bio\"].str.lower()\n",
    "    for index, row in df.iterrows():\n",
    "        df.at[index, 'n of Words'] = calculate_words(row['bio'])\n",
    "    df=df[['name', 'age', 'bio', 'n of Words', 'distance', 'school', 'job',\n",
    "           'pictures', 'instagram', \"spotify\",'location']].drop(['spotify'], axis=1)\n",
    "    return df\n",
    "\n",
    "men = initialize(men)\n",
    "women = initialize(women)\n",
    "qgrid.show_grid(men)"
   ]
  },
  {
   "cell_type": "code",
   "execution_count": 3,
   "metadata": {},
   "outputs": [
    {
     "data": {
      "application/vnd.jupyter.widget-view+json": {
       "model_id": "7ae2b678b46343759813278f75d3634a",
       "version_major": 2,
       "version_minor": 0
      },
      "text/plain": [
       "A Jupyter Widget"
      ]
     },
     "metadata": {},
     "output_type": "display_data"
    }
   ],
   "source": [
    "qgrid.show_grid(women)"
   ]
  },
  {
   "cell_type": "code",
   "execution_count": 4,
   "metadata": {},
   "outputs": [
    {
     "name": "stdout",
     "output_type": "stream",
     "text": [
      "[nltk_data] Downloading package stopwords to /Users/user/nltk_data...\n",
      "[nltk_data]   Package stopwords is already up-to-date!\n",
      "[nltk_data] Downloading package punkt to /Users/user/nltk_data...\n",
      "[nltk_data]   Package punkt is already up-to-date!\n"
     ]
    }
   ],
   "source": [
    "#cleaning the text, so that the frequency is calculated correctly\n",
    "import nltk\n",
    "from nltk.corpus import stopwords\n",
    "nltk.download('stopwords')\n",
    "nltk.download('punkt')\n",
    "\n",
    "def remove_punctuation(data):\n",
    "    symbols = \"!\\\"#$%&()*+-./:;<=>?@[\\]^_`{|}~\\n\"\n",
    "    for i in range(len(symbols)):\n",
    "        data = np.char.replace(data, symbols[i], ' ')\n",
    "        data = np.char.replace(data, \"  \", \" \")\n",
    "    data = np.char.replace(data, ',', '')\n",
    "    return data\n",
    "\n",
    "def remove_stop_words(data):\n",
    "    stop_words_en = stopwords.words('english')\n",
    "    stop_words_de = set(stopwords.words('german'))\n",
    "    words = word_tokenize(str(data))\n",
    "    new_text = \"\"\n",
    "    for w in words:\n",
    "        if w not in stop_words_en and w not in stop_words_de and len(w) > 1:\n",
    "            new_text = new_text + \" \" + w\n",
    "    return new_text\n",
    "\n",
    "def remove_apostrophe(data):\n",
    "    return np.char.replace(data, \"'\", \"\")\n",
    "\n",
    "def stemming(data):\n",
    "    stemmer= PorterStemmer()\n",
    "    \n",
    "    tokens = word_tokenize(str(data))\n",
    "    new_text = \"\"\n",
    "    for w in tokens:\n",
    "        new_text = new_text + \" \" + stemmer.stem(w)\n",
    "    return new_text\n",
    "\n",
    "def convert_numbers(data):\n",
    "    tokens = word_tokenize(str(data))\n",
    "    new_text = \"\"\n",
    "    for w in tokens:\n",
    "        try:\n",
    "            w = num2words(int(w))\n",
    "        except:\n",
    "            a = 0\n",
    "        new_text = new_text + \" \" + w\n",
    "    new_text = np.char.replace(new_text, \"-\", \" \")\n",
    "    return new_text"
   ]
  },
  {
   "cell_type": "code",
   "execution_count": 5,
   "metadata": {
    "collapsed": true
   },
   "outputs": [],
   "source": [
    "def preprocess(data):\n",
    "    data = remove_punctuation(data) #remove comma seperately\n",
    "    data = remove_apostrophe(data)\n",
    "    data = remove_stop_words(data)\n",
    "    data = convert_numbers(data)\n",
    "    data = stemming(data)\n",
    "    data = remove_punctuation(data)\n",
    "    data = convert_numbers(data)\n",
    "    data = stemming(data) #needed again as we need to stem the words\n",
    "    data = remove_punctuation(data) #needed again as num2word is giving few hypens and commas fourty-one\n",
    "    data = remove_stop_words(data) #needed again as num2word is giving stop words 101 - one hundred and one\n",
    "    return data"
   ]
  },
  {
   "cell_type": "code",
   "execution_count": 6,
   "metadata": {
    "collapsed": true
   },
   "outputs": [],
   "source": [
    "def counting_frequency(df):\n",
    "    processed_text = []\n",
    "    for bio in df['bio']:\n",
    "        processed_text.append(word_tokenize(str(preprocess(str(bio)))))\n",
    "    DF = {}\n",
    "\n",
    "    for i in range(len(processed_text)):\n",
    "        tokens = processed_text[i]\n",
    "        for w in tokens:\n",
    "            try:\n",
    "                DF[w].add(i)\n",
    "            except:\n",
    "                DF[w] = {i}\n",
    "\n",
    "    for i in DF:\n",
    "        DF[i] = len(DF[i])\n",
    "    return(DF)"
   ]
  },
  {
   "cell_type": "code",
   "execution_count": 7,
   "metadata": {
    "collapsed": true
   },
   "outputs": [],
   "source": [
    "women_freq = counting_frequency(women)\n",
    "men_freq = counting_frequency(men)"
   ]
  },
  {
   "cell_type": "markdown",
   "metadata": {},
   "source": [
    "# Description of the dataset\n",
    "#### The following tables show the 15 most frequent words used by male and female accounts collected from Tinder\n",
    "The biographies have been cleaned and stemmed in order to get more representative results <br>\n",
    "#### Female accounts:"
   ]
  },
  {
   "cell_type": "code",
   "execution_count": 8,
   "metadata": {},
   "outputs": [
    {
     "data": {
      "text/html": [
       "<div>\n",
       "<style>\n",
       "    .dataframe thead tr:only-child th {\n",
       "        text-align: right;\n",
       "    }\n",
       "\n",
       "    .dataframe thead th {\n",
       "        text-align: left;\n",
       "    }\n",
       "\n",
       "    .dataframe tbody tr th {\n",
       "        vertical-align: top;\n",
       "    }\n",
       "</style>\n",
       "<table border=\"1\" class=\"dataframe\">\n",
       "  <thead>\n",
       "    <tr style=\"text-align: right;\">\n",
       "      <th></th>\n",
       "      <th>word</th>\n",
       "      <th>frequency</th>\n",
       "    </tr>\n",
       "  </thead>\n",
       "  <tbody>\n",
       "    <tr>\n",
       "      <th>60</th>\n",
       "      <td>one</td>\n",
       "      <td>27</td>\n",
       "    </tr>\n",
       "    <tr>\n",
       "      <th>443</th>\n",
       "      <td>seventi</td>\n",
       "      <td>26</td>\n",
       "    </tr>\n",
       "    <tr>\n",
       "      <th>62</th>\n",
       "      <td>hundr</td>\n",
       "      <td>25</td>\n",
       "    </tr>\n",
       "    <tr>\n",
       "      <th>137</th>\n",
       "      <td>instagram</td>\n",
       "      <td>23</td>\n",
       "    </tr>\n",
       "    <tr>\n",
       "      <th>50</th>\n",
       "      <td>insta</td>\n",
       "      <td>21</td>\n",
       "    </tr>\n",
       "    <tr>\n",
       "      <th>26</th>\n",
       "      <td>berlin</td>\n",
       "      <td>21</td>\n",
       "    </tr>\n",
       "    <tr>\n",
       "      <th>430</th>\n",
       "      <td>ig</td>\n",
       "      <td>19</td>\n",
       "    </tr>\n",
       "    <tr>\n",
       "      <th>121</th>\n",
       "      <td>gern</td>\n",
       "      <td>14</td>\n",
       "    </tr>\n",
       "    <tr>\n",
       "      <th>127</th>\n",
       "      <td>lieb</td>\n",
       "      <td>14</td>\n",
       "    </tr>\n",
       "    <tr>\n",
       "      <th>877</th>\n",
       "      <td>sixti</td>\n",
       "      <td>13</td>\n",
       "    </tr>\n",
       "    <tr>\n",
       "      <th>33</th>\n",
       "      <td>love</td>\n",
       "      <td>13</td>\n",
       "    </tr>\n",
       "    <tr>\n",
       "      <th>11</th>\n",
       "      <td>einfach</td>\n",
       "      <td>13</td>\n",
       "    </tr>\n",
       "    <tr>\n",
       "      <th>166</th>\n",
       "      <td>look</td>\n",
       "      <td>12</td>\n",
       "    </tr>\n",
       "    <tr>\n",
       "      <th>230</th>\n",
       "      <td>menschen</td>\n",
       "      <td>12</td>\n",
       "    </tr>\n",
       "    <tr>\n",
       "      <th>8</th>\n",
       "      <td>mal</td>\n",
       "      <td>12</td>\n",
       "    </tr>\n",
       "  </tbody>\n",
       "</table>\n",
       "</div>"
      ],
      "text/plain": [
       "          word  frequency\n",
       "60         one         27\n",
       "443    seventi         26\n",
       "62       hundr         25\n",
       "137  instagram         23\n",
       "50       insta         21\n",
       "26      berlin         21\n",
       "430         ig         19\n",
       "121       gern         14\n",
       "127       lieb         14\n",
       "877      sixti         13\n",
       "33        love         13\n",
       "11     einfach         13\n",
       "166       look         12\n",
       "230   menschen         12\n",
       "8          mal         12"
      ]
     },
     "execution_count": 8,
     "metadata": {},
     "output_type": "execute_result"
    }
   ],
   "source": [
    "women_freq_df = pd.DataFrame(list(women_freq.items()), columns=['word', 'frequency'])\n",
    "women_freq_df = women_freq_df[women_freq_df['word']!='nan']\n",
    "women_freq_df.sort_values(by=['frequency'], ascending=False).head(15)"
   ]
  },
  {
   "cell_type": "markdown",
   "metadata": {},
   "source": [
    "#### Male accounts:"
   ]
  },
  {
   "cell_type": "code",
   "execution_count": 9,
   "metadata": {},
   "outputs": [
    {
     "data": {
      "text/html": [
       "<div>\n",
       "<style>\n",
       "    .dataframe thead tr:only-child th {\n",
       "        text-align: right;\n",
       "    }\n",
       "\n",
       "    .dataframe thead th {\n",
       "        text-align: left;\n",
       "    }\n",
       "\n",
       "    .dataframe tbody tr th {\n",
       "        vertical-align: top;\n",
       "    }\n",
       "</style>\n",
       "<table border=\"1\" class=\"dataframe\">\n",
       "  <thead>\n",
       "    <tr style=\"text-align: right;\">\n",
       "      <th></th>\n",
       "      <th>word</th>\n",
       "      <th>frequency</th>\n",
       "    </tr>\n",
       "  </thead>\n",
       "  <tbody>\n",
       "    <tr>\n",
       "      <th>45</th>\n",
       "      <td>one</td>\n",
       "      <td>50</td>\n",
       "    </tr>\n",
       "    <tr>\n",
       "      <th>32</th>\n",
       "      <td>eighti</td>\n",
       "      <td>43</td>\n",
       "    </tr>\n",
       "    <tr>\n",
       "      <th>166</th>\n",
       "      <td>hundr</td>\n",
       "      <td>39</td>\n",
       "    </tr>\n",
       "    <tr>\n",
       "      <th>321</th>\n",
       "      <td>new</td>\n",
       "      <td>29</td>\n",
       "    </tr>\n",
       "    <tr>\n",
       "      <th>6</th>\n",
       "      <td>travel</td>\n",
       "      <td>28</td>\n",
       "    </tr>\n",
       "    <tr>\n",
       "      <th>25</th>\n",
       "      <td>look</td>\n",
       "      <td>27</td>\n",
       "    </tr>\n",
       "    <tr>\n",
       "      <th>102</th>\n",
       "      <td>student</td>\n",
       "      <td>25</td>\n",
       "    </tr>\n",
       "    <tr>\n",
       "      <th>347</th>\n",
       "      <td>live</td>\n",
       "      <td>23</td>\n",
       "    </tr>\n",
       "    <tr>\n",
       "      <th>97</th>\n",
       "      <td>twenti</td>\n",
       "      <td>23</td>\n",
       "    </tr>\n",
       "    <tr>\n",
       "      <th>27</th>\n",
       "      <td>life</td>\n",
       "      <td>22</td>\n",
       "    </tr>\n",
       "    <tr>\n",
       "      <th>23</th>\n",
       "      <td>love</td>\n",
       "      <td>22</td>\n",
       "    </tr>\n",
       "    <tr>\n",
       "      <th>278</th>\n",
       "      <td>friend</td>\n",
       "      <td>21</td>\n",
       "    </tr>\n",
       "    <tr>\n",
       "      <th>227</th>\n",
       "      <td>insta</td>\n",
       "      <td>21</td>\n",
       "    </tr>\n",
       "    <tr>\n",
       "      <th>41</th>\n",
       "      <td>like</td>\n",
       "      <td>20</td>\n",
       "    </tr>\n",
       "    <tr>\n",
       "      <th>568</th>\n",
       "      <td>berlin</td>\n",
       "      <td>20</td>\n",
       "    </tr>\n",
       "  </tbody>\n",
       "</table>\n",
       "</div>"
      ],
      "text/plain": [
       "        word  frequency\n",
       "45       one         50\n",
       "32    eighti         43\n",
       "166    hundr         39\n",
       "321      new         29\n",
       "6     travel         28\n",
       "25      look         27\n",
       "102  student         25\n",
       "347     live         23\n",
       "97    twenti         23\n",
       "27      life         22\n",
       "23      love         22\n",
       "278   friend         21\n",
       "227    insta         21\n",
       "41      like         20\n",
       "568   berlin         20"
      ]
     },
     "execution_count": 9,
     "metadata": {},
     "output_type": "execute_result"
    }
   ],
   "source": [
    "men_freq_df = pd.DataFrame(list(men_freq.items()), columns=['word', 'frequency'])\n",
    "men_freq_df = men_freq_df[men_freq_df['word']!='nan']\n",
    "men_freq_df.sort_values(by=['frequency'], ascending=False).head(15)"
   ]
  },
  {
   "cell_type": "code",
   "execution_count": 10,
   "metadata": {},
   "outputs": [
    {
     "data": {
      "text/html": [
       "<iframe id=\"igraph\" scrolling=\"no\" style=\"border:none;\" seamless=\"seamless\" src=\"https://plot.ly/~stannida19/102.embed\" height=\"525px\" width=\"100%\"></iframe>"
      ],
      "text/plain": [
       "<chart_studio.tools.PlotlyDisplay object>"
      ]
     },
     "execution_count": 10,
     "metadata": {},
     "output_type": "execute_result"
    }
   ],
   "source": [
    "age_w = women['age'].value_counts().to_dict()\n",
    "age_m = men['age'].value_counts().to_dict()\n",
    "age_m.update((x,y*(-1)) for x,y in age_m.items())\n",
    "layout = go.Layout(yaxis=go.layout.YAxis(title='Age'),\n",
    "                   xaxis=go.layout.XAxis(\n",
    "                       range=[-120, 120],\n",
    "                       tickvals=[-120, -80, -50, -20, 0, 20, 50, 80, 120],\n",
    "                       ticktext=[120, 80, 50, 20, 0, 20, 50, 80, 120],\n",
    "                       title='Number of people'),\n",
    "                   barmode='overlay',\n",
    "                   bargap=0.1)\n",
    "\n",
    "data = [go.Bar(x=list(age_m.values()),\n",
    "               y=list(age_m.keys()),\n",
    "               orientation='h',\n",
    "               name='Men',\n",
    "               hoverinfo='x+y',\n",
    "               marker=dict(color='orange')\n",
    "               ),\n",
    "        go.Bar(x = list(age_w.values()), \n",
    "               y = list(age_w.keys()),\n",
    "               orientation='h',\n",
    "               name='Women',\n",
    "               hoverinfo='x+y',\n",
    "               marker = dict(color='seagreen')\n",
    "               )]\n",
    "\n",
    "py.iplot(dict(data=data, layout=layout)) "
   ]
  },
  {
   "cell_type": "code",
   "execution_count": 11,
   "metadata": {},
   "outputs": [
    {
     "data": {
      "text/html": [
       "<iframe id=\"igraph\" scrolling=\"no\" style=\"border:none;\" seamless=\"seamless\" src=\"https://plot.ly/~stannida19/104.embed\" height=\"525px\" width=\"100%\"></iframe>"
      ],
      "text/plain": [
       "<chart_studio.tools.PlotlyDisplay object>"
      ]
     },
     "execution_count": 11,
     "metadata": {},
     "output_type": "execute_result"
    }
   ],
   "source": [
    "w_school = women['school'].value_counts().to_dict()\n",
    "layout = go.Layout(title = \"School is mentioned - women\")\n",
    "trace = go.Pie(labels=['No', 'Yes', \"More than 1 school\"], values=list(w_school.values()),\n",
    "               hoverinfo='label+value', textinfo='percent', \n",
    "               textfont=dict(size=20))\n",
    "py.iplot(dict(data=[trace], layout=layout)) "
   ]
  },
  {
   "cell_type": "code",
   "execution_count": 12,
   "metadata": {},
   "outputs": [
    {
     "data": {
      "text/html": [
       "<iframe id=\"igraph\" scrolling=\"no\" style=\"border:none;\" seamless=\"seamless\" src=\"https://plot.ly/~stannida19/106.embed\" height=\"525px\" width=\"100%\"></iframe>"
      ],
      "text/plain": [
       "<chart_studio.tools.PlotlyDisplay object>"
      ]
     },
     "execution_count": 12,
     "metadata": {},
     "output_type": "execute_result"
    }
   ],
   "source": [
    "m_school = men['school'].value_counts().to_dict()\n",
    "layout = go.Layout(title = \"School is mentioned - men\")\n",
    "trace = go.Pie(labels=['No', 'Yes', \"More than 1 school\"], values=list(m_school.values()),\n",
    "               hoverinfo='label+value', textinfo='percent', \n",
    "               textfont=dict(size=20))\n",
    "py.iplot(dict(data=[trace], layout=layout))"
   ]
  },
  {
   "cell_type": "code",
   "execution_count": 13,
   "metadata": {},
   "outputs": [
    {
     "data": {
      "text/html": [
       "<iframe id=\"igraph\" scrolling=\"no\" style=\"border:none;\" seamless=\"seamless\" src=\"https://plot.ly/~stannida19/108.embed\" height=\"525px\" width=\"100%\"></iframe>"
      ],
      "text/plain": [
       "<chart_studio.tools.PlotlyDisplay object>"
      ]
     },
     "execution_count": 13,
     "metadata": {},
     "output_type": "execute_result"
    }
   ],
   "source": [
    "m_job = men['job'].value_counts().to_dict()\n",
    "layout = go.Layout(title = \"Job is mentioned - men\")\n",
    "trace = go.Pie(labels=['No', 'Yes'], values=list(m_job.values()),\n",
    "               hoverinfo='label+value', textinfo='percent', \n",
    "               textfont=dict(size=20))\n",
    "py.iplot(dict(data=[trace], layout=layout)) "
   ]
  },
  {
   "cell_type": "code",
   "execution_count": 14,
   "metadata": {},
   "outputs": [
    {
     "data": {
      "text/html": [
       "<iframe id=\"igraph\" scrolling=\"no\" style=\"border:none;\" seamless=\"seamless\" src=\"https://plot.ly/~stannida19/110.embed\" height=\"525px\" width=\"100%\"></iframe>"
      ],
      "text/plain": [
       "<chart_studio.tools.PlotlyDisplay object>"
      ]
     },
     "execution_count": 14,
     "metadata": {},
     "output_type": "execute_result"
    }
   ],
   "source": [
    "w_job = women['job'].value_counts().to_dict()\n",
    "layout = go.Layout(title = \"Job is mentioned - women\")\n",
    "trace = go.Pie(labels=['No', 'Yes'], values=list(w_job.values()),\n",
    "               hoverinfo='label+value', textinfo='percent', \n",
    "               textfont=dict(size=20))\n",
    "py.iplot(dict(data=[trace], layout=layout)) "
   ]
  },
  {
   "cell_type": "markdown",
   "metadata": {},
   "source": [
    "# Data analysis\n",
    " Firstly, the number of photos for men and women were analyzed on self-equality. Gini coefficient was calculated for each variable in order to see how equally numbers are distributed for each gender.\n"
   ]
  },
  {
   "cell_type": "code",
   "execution_count": 15,
   "metadata": {},
   "outputs": [
    {
     "name": "stdout",
     "output_type": "stream",
     "text": [
      "Gini coefficient for N of photos, men:  0.28643325763310623 \n",
      "Gini coefficient for N of words, men:  0.6881202217125382\n",
      "Gini coefficient for N of photos, women:  0.2635324873692868 \n",
      "Gini coefficient for N of words, women:  0.7693184512050573\n",
      "Percentage of empty Bio:  53.0612244898\n",
      "Percentage of empty Bio:  67.1309192201\n"
     ]
    }
   ],
   "source": [
    "def gini_coeff(x):\n",
    "    # requires all values in x to be zero or positive numbers,\n",
    "    # otherwise results are undefined\n",
    "    n = len(x)\n",
    "    s = x.sum()\n",
    "    r = np.argsort(np.argsort(-x)) # calculates zero-based ranks\n",
    "    return 1 - (2.0 * (r*x).sum() + s)/(n*s)\n",
    "\n",
    "m_n_words=men.loc[:,[\"n of Words\"]].values\n",
    "w_n_words=women.loc[:,[\"n of Words\"]].values\n",
    "print(\"Gini coefficient for N of photos, men: \", gini_coeff(men[\"pictures\"]),\"\\nGini coefficient for N of words, men: \",\n",
    "      gini_coeff(men[\"n of Words\"]))\n",
    "print(\"Gini coefficient for N of photos, women: \", gini_coeff(women[\"pictures\"]),\"\\nGini coefficient for N of words, women: \",\n",
    "      gini_coeff(women[\"n of Words\"]))"
   ]
  },
  {
   "cell_type": "markdown",
   "metadata": {},
   "source": [
    "It can be seen, that for the number of words coefficient is much higher. That is due to the speciality of the platform as one can leave the field \"Bio\" empty. You can see how many accounts among the collected dataset have left it empty:"
   ]
  },
  {
   "cell_type": "code",
   "execution_count": 17,
   "metadata": {},
   "outputs": [
    {
     "name": "stdout",
     "output_type": "stream",
     "text": [
      "Percentage of empty Bio:  53.0612244898\n",
      "Percentage of empty Bio:  67.1309192201\n"
     ]
    }
   ],
   "source": [
    "print(\"Percentage of empty Bio: \", (men[\"bio\"].isnull().sum()/men[\"bio\"].count())*100) \n",
    "print(\"Percentage of empty Bio: \", (women[\"bio\"].isnull().sum()/women[\"bio\"].count())*100) "
   ]
  },
  {
   "cell_type": "code",
   "execution_count": 37,
   "metadata": {},
   "outputs": [
    {
     "name": "stdout",
     "output_type": "stream",
     "text": [
      "Number of photos, women: mean =  4.7283333333333335 , stdev =  2.205568080009217 \n",
      "Number of photos, men: mean 4.403333333333333 , stdev =  2.230244132127441 \n",
      "Number of words, women: mean =  8.436666666666667 , stdev =  15.411770033177717 \n",
      "Number of words, men: mean =  11.626666666666667 , stdev =  17.372026044445356\n"
     ]
    }
   ],
   "source": [
    "print (\"Number of photos, women: mean = \", women['pictures'].mean(), \", stdev = \", np.std(women['pictures']), \n",
    "       \"\\nNumber of photos, men: mean\", men['pictures'].mean(),\", stdev = \", np.std(men['pictures']), \n",
    "       \"\\nNumber of words, women: mean = \", women['n of Words'].mean(), \", stdev = \", np.std(women['n of Words']),\n",
    "       \"\\nNumber of words, men: mean = \", men['n of Words'].mean(), \", stdev = \", np.std(men['n of Words']))"
   ]
  },
  {
   "cell_type": "markdown",
   "metadata": {},
   "source": [
    "Histograms were built to see how is each variable is distributed."
   ]
  },
  {
   "cell_type": "code",
   "execution_count": 22,
   "metadata": {},
   "outputs": [
    {
     "data": {
      "image/png": "iVBORw0KGgoAAAANSUhEUgAAAXcAAAETCAYAAADNpUayAAAABHNCSVQICAgIfAhkiAAAAAlwSFlz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\nQmCC\n",
      "text/plain": [
       "<matplotlib.figure.Figure at 0x1a190b7898>"
      ]
     },
     "metadata": {},
     "output_type": "display_data"
    }
   ],
   "source": [
    "import seaborn as sns\n",
    "import matplotlib\n",
    "sns.set(color_codes=True)\n",
    "w_hist_photos = sns.distplot(women['pictures'], color=\"red\").set_title(\"Distribution of # of photos, women\")\n",
    "matplotlib.pyplot.show(w_hist_photos)"
   ]
  },
  {
   "cell_type": "code",
   "execution_count": 23,
   "metadata": {},
   "outputs": [
    {
     "data": {
      "image/png": "iVBORw0KGgoAAAANSUhEUgAAAXcAAAETCAYAAADNpUayAAAABHNCSVQICAgIfAhkiAAAAAlwSFlz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\nIAl3IYRwQP8/otcJvPvZpHYAAAAASUVORK5CYII=\n",
      "text/plain": [
       "<matplotlib.figure.Figure at 0x1a18ff6be0>"
      ]
     },
     "metadata": {},
     "output_type": "display_data"
    }
   ],
   "source": [
    "m_hist_photos = sns.distplot(men['pictures']).set_title(\"Distribution of # of photos, men\")\n",
    "matplotlib.pyplot.show(m_hist_photos)"
   ]
  },
  {
   "cell_type": "code",
   "execution_count": 24,
   "metadata": {},
   "outputs": [
    {
     "data": {
      "image/png": "iVBORw0KGgoAAAANSUhEUgAAAXcAAAETCAYAAADNpUayAAAABHNCSVQICAgIfAhkiAAAAAlwSFlz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\nSOEuIuJACncREQf6/6M4qAANxLmdAAAAAElFTkSuQmCC\n",
      "text/plain": [
       "<matplotlib.figure.Figure at 0x1a1962a358>"
      ]
     },
     "metadata": {},
     "output_type": "display_data"
    }
   ],
   "source": [
    "w_hist_words = sns.distplot(women['n of Words'], color=\"red\").set_title(\"Distribution of # of words, women\")\n",
    "matplotlib.pyplot.show(w_hist_words)"
   ]
  },
  {
   "cell_type": "code",
   "execution_count": 27,
   "metadata": {},
   "outputs": [
    {
     "data": {
      "image/png": "iVBORw0KGgoAAAANSUhEUgAAAXcAAAETCAYAAADNpUayAAAABHNCSVQICAgIfAhkiAAAAAlwSFlz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\n+Lbc8wAAAABJRU5ErkJggg==\n",
      "text/plain": [
       "<matplotlib.figure.Figure at 0x1a19923780>"
      ]
     },
     "metadata": {},
     "output_type": "display_data"
    }
   ],
   "source": [
    "m_hist_words = sns.distplot(men['n of Words']).set_title(\"Distribution of # of words, men\")\n",
    "matplotlib.pyplot.show(m_hist_words)"
   ]
  },
  {
   "cell_type": "markdown",
   "metadata": {},
   "source": [
    "As was mentioned before, number of words is highly unequal, therefore, the distribution is greatly skewed. <br><br>\n",
    "Finally, the t-test was conducted to test if the means are actually different (the null hypothesis for this test is that means for each variable are equal for men and women, alternative - that they are not equal)"
   ]
  },
  {
   "cell_type": "code",
   "execution_count": 28,
   "metadata": {},
   "outputs": [
    {
     "name": "stdout",
     "output_type": "stream",
     "text": [
      "t = -3.36190068802\n",
      "p = 0.000798505525796\n"
     ]
    }
   ],
   "source": [
    "from scipy import stats\n",
    "N = men.shape[0]\n",
    "var_f = women['n of Words'].var(ddof=1)\n",
    "var_m = men['n of Words'].var(ddof=1)\n",
    "s = np.sqrt((var_f + var_m)/2)\n",
    "t = (women['n of Words'].mean() - men['n of Words'].mean())/(s*np.sqrt(2/N))\n",
    "degf = 2*N - 2\n",
    "p = 1 - stats.t.cdf(abs(t),df=degf)\n",
    "print(\"t = \" + str(t))\n",
    "print(\"p = \" + str(2*p))"
   ]
  },
  {
   "cell_type": "code",
   "execution_count": 30,
   "metadata": {},
   "outputs": [
    {
     "name": "stdout",
     "output_type": "stream",
     "text": [
      "t = 2.53589868233\n",
      "p = 0.0113421361545\n"
     ]
    }
   ],
   "source": [
    "var_f = women['pictures'].var(ddof=1)\n",
    "var_m = men['pictures'].var(ddof=1)\n",
    "s = np.sqrt((var_f + var_m)/2)\n",
    "t = (women['pictures'].mean() - men['pictures'].mean())/(s*np.sqrt(2/N))\n",
    "degf = 2*N - 2\n",
    "p = 1 - stats.t.cdf(abs(t),df=degf)\n",
    "print(\"t = \" + str(t))\n",
    "print(\"p = \" + str(2*p))"
   ]
  },
  {
   "cell_type": "markdown",
   "metadata": {},
   "source": [
    "The p-values are smaller than the significance level α = 5%, therefore, the null hypothesis can be rejected. <br> <br>\n",
    "On the following graph you can see how many people have linked their Tinder account to Instagram account."
   ]
  },
  {
   "cell_type": "code",
   "execution_count": 48,
   "metadata": {},
   "outputs": [
    {
     "data": {
      "text/html": [
       "<iframe id=\"igraph\" scrolling=\"no\" style=\"border:none;\" seamless=\"seamless\" src=\"https://plot.ly/~stannida19/124.embed\" height=\"525px\" width=\"100%\"></iframe>"
      ],
      "text/plain": [
       "<chart_studio.tools.PlotlyDisplay object>"
      ]
     },
     "execution_count": 48,
     "metadata": {},
     "output_type": "execute_result"
    }
   ],
   "source": [
    "inst_w = women['instagram'].value_counts().to_dict()\n",
    "inst_m = men['instagram'].value_counts().to_dict()\n",
    "layout = go.Layout(yaxis=go.layout.YAxis(title='Number of people'),\n",
    "                   xaxis=go.layout.XAxis(\n",
    "                       title='Is instagram linked'),\n",
    "                   bargap=0.1)\n",
    "data = [go.Bar(y=list(inst_w.values()),\n",
    "               x=list(inst_w.keys()),\n",
    "               name='Women',\n",
    "               hoverinfo='x+y',\n",
    "               marker=dict(color='orange')\n",
    "               ),\n",
    "        go.Bar(y = list(inst_m.values()), \n",
    "               x = list(inst_m.keys()),\n",
    "               name='Men',\n",
    "               hoverinfo='x+y',\n",
    "               marker = dict(color='seagreen')\n",
    "               )]\n",
    "\n",
    "py.iplot(dict(data=data, layout=layout)) "
   ]
  },
  {
   "cell_type": "markdown",
   "metadata": {},
   "source": [
    "Finally, the chi-square test was conducted to measure how well the observed distribution of data fits with the distribution that is expected if the variables \"instagram\" and gender are independent. The null hypothesis states, there is no difference for the gender, the resulted probability would be the same."
   ]
  },
  {
   "cell_type": "code",
   "execution_count": 39,
   "metadata": {},
   "outputs": [
    {
     "name": "stdout",
     "output_type": "stream",
     "text": [
      "===Chi2 Stat===\n",
      "8.18226891748\n",
      "\n",
      "\n",
      "===Degrees of Freedom===\n",
      "1\n",
      "\n",
      "\n",
      "===P-Value===\n",
      "0.00423018168145\n",
      "\n",
      "\n",
      "===Contingency Table===\n",
      "[[ 492.5  492.5]\n",
      " [ 107.5  107.5]]\n"
     ]
    }
   ],
   "source": [
    "inst_w = women['instagram'].value_counts()\n",
    "inst_m = men['instagram'].value_counts()\n",
    "instagram = pd.concat([inst_w, inst_m], axis=1)\n",
    "chi2_stat, p_val, dof, ex = stats.chi2_contingency(instagram)\n",
    "print(\"===Chi2 Stat===\")\n",
    "print(chi2_stat)\n",
    "print(\"\\n\")\n",
    "print(\"===Degrees of Freedom===\")\n",
    "print(dof)\n",
    "print(\"\\n\")\n",
    "print(\"===P-Value===\")\n",
    "print(p_val)\n",
    "print(\"\\n\")\n",
    "print(\"===Contingency Table===\")\n",
    "print(ex)"
   ]
  },
  {
   "cell_type": "markdown",
   "metadata": {
    "collapsed": true
   },
   "source": [
    "The null hypothesis can be rejected as p-value is below the significance level of 5%. If the distribution of this data is due entirely to chance, then we have a 0,4% chance of finding a discrepancy between the observed and expected distributions that is at least this extreme. "
   ]
  },
  {
   "cell_type": "code",
   "execution_count": null,
   "metadata": {
    "collapsed": true
   },
   "outputs": [],
   "source": []
  }
 ],
 "metadata": {
  "kernelspec": {
   "display_name": "Python 3",
   "language": "python",
   "name": "python3"
  },
  "language_info": {
   "codemirror_mode": {
    "name": "ipython",
    "version": 3
   },
   "file_extension": ".py",
   "mimetype": "text/x-python",
   "name": "python",
   "nbconvert_exporter": "python",
   "pygments_lexer": "ipython3",
   "version": "3.6.3"
  }
 },
 "nbformat": 4,
 "nbformat_minor": 2
}
